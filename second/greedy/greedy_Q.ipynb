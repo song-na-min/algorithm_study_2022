{
  "nbformat": 4,
  "nbformat_minor": 0,
  "metadata": {
    "colab": {
      "name": "greedy.ipynb",
      "provenance": [],
      "collapsed_sections": [],
      "authorship_tag": "ABX9TyN/66HJ7ur1WAQ2ib8e0CRG",
      "include_colab_link": true
    },
    "kernelspec": {
      "name": "python3",
      "display_name": "Python 3"
    },
    "language_info": {
      "name": "python"
    }
  },
  "cells": [
    {
      "cell_type": "markdown",
      "metadata": {
        "id": "view-in-github",
        "colab_type": "text"
      },
      "source": [
        "<a href=\"https://colab.research.google.com/github/song-na-min/algorithm_study_2022/blob/main/second/greedy/greedy_Q.ipynb\" target=\"_parent\"><img src=\"https://colab.research.google.com/assets/colab-badge.svg\" alt=\"Open In Colab\"/></a>"
      ]
    },
    {
      "cell_type": "markdown",
      "source": [
        "##Q1 모험가 길드\n",
        "input : n\n",
        "\n",
        "n명의 모험가를 대상으로 공포도를 측정\n",
        "공포도가 x인 모험가는 반드시 x명 이상으로 구성된 그룹에 참여해야 한다.\n",
        "만들 수 있는 그룹의 최대 수\n",
        "단, 모든 모험가가 그룹에 들어가야하는것은 아니다."
      ],
      "metadata": {
        "id": "JunHFmMshyPT"
      }
    },
    {
      "cell_type": "code",
      "execution_count": null,
      "metadata": {
        "id": "vbDAhIXkhsaa"
      },
      "outputs": [],
      "source": [
        "def adventure(n,arr):\n",
        "  arr.sort()\n",
        "  count=0\n",
        "  group=0\n",
        "  max_group=0\n",
        "  for i in arr:\n",
        "    #print(i)\n",
        "    max_group=max(max_group,i)\n",
        "    count+=1\n",
        "    if max_group==count:\n",
        "      group+=1\n",
        "      max_group=0\n",
        "      count=0\n",
        "      #print(\"count!\")\n",
        "  return group\n"
      ]
    },
    {
      "cell_type": "code",
      "source": [
        "n=5\n",
        "arr=[2,3,1,2,2]\n",
        "adventure(n,arr)"
      ],
      "metadata": {
        "colab": {
          "base_uri": "https://localhost:8080/"
        },
        "id": "7ol5as6zj0q5",
        "outputId": "1d0b5ef5-984b-4303-8195-289747683616"
      },
      "execution_count": null,
      "outputs": [
        {
          "output_type": "execute_result",
          "data": {
            "text/plain": [
              "2"
            ]
          },
          "metadata": {},
          "execution_count": 6
        }
      ]
    },
    {
      "cell_type": "markdown",
      "source": [
        "##Q2 곱하기 혹은 더하기\n",
        "input=S(숫자로 구성된 문자열)\n",
        "\n",
        "각 자리가 숫자(0~9)로 이루어진 문자열 S가 주어졌을 때 \n",
        "왼쪽에서 오른쪽으로 하나씩 모든 숫자를 확인하여 숫자 사이에 x나 +를 넣어 가장 큰수를 구하여라\n",
        "\n",
        "단 모든 연산은 왼쪽에서 순서대로 이루어진다\n"
      ],
      "metadata": {
        "id": "LCA6o33NkBi-"
      }
    },
    {
      "cell_type": "code",
      "source": [
        "def plus_or_multi(s):\n",
        "  result=1\n",
        "  for i in s:\n",
        "    #print(i)\n",
        "    if i==\"0\":\n",
        "      #print(\"+\")\n",
        "      continue\n",
        "    elif i==\"1\":\n",
        "      #print(\"+\")\n",
        "      result+=1\n",
        "    else:\n",
        "      \n",
        "      result=result*int(i)\n",
        "      #print(result)\n",
        "  return result"
      ],
      "metadata": {
        "id": "LrXphywnkb5X"
      },
      "execution_count": null,
      "outputs": []
    },
    {
      "cell_type": "code",
      "source": [
        "s=\"02984\"\n",
        "plus_or_multi(s)"
      ],
      "metadata": {
        "colab": {
          "base_uri": "https://localhost:8080/"
        },
        "id": "X2oMIxTNkrqA",
        "outputId": "95546cbb-28d1-4f79-f800-144924c62a46"
      },
      "execution_count": null,
      "outputs": [
        {
          "output_type": "execute_result",
          "data": {
            "text/plain": [
              "576"
            ]
          },
          "metadata": {},
          "execution_count": 19
        }
      ]
    },
    {
      "cell_type": "code",
      "source": [
        "s=\"567\"\n",
        "plus_or_multi(s)"
      ],
      "metadata": {
        "colab": {
          "base_uri": "https://localhost:8080/"
        },
        "id": "ssKHqa9flhfV",
        "outputId": "e0f65e37-a54a-45dc-b83a-b4532dd40d56"
      },
      "execution_count": null,
      "outputs": [
        {
          "output_type": "execute_result",
          "data": {
            "text/plain": [
              "210"
            ]
          },
          "metadata": {},
          "execution_count": 20
        }
      ]
    },
    {
      "cell_type": "code",
      "source": [
        "s=\"021984\"\n",
        "plus_or_multi(s)"
      ],
      "metadata": {
        "colab": {
          "base_uri": "https://localhost:8080/"
        },
        "id": "OHq2mS4vllMx",
        "outputId": "fbc8226b-a1d9-45d9-c3b1-2ddf1430cb0e"
      },
      "execution_count": null,
      "outputs": [
        {
          "output_type": "execute_result",
          "data": {
            "text/plain": [
              "864"
            ]
          },
          "metadata": {},
          "execution_count": 21
        }
      ]
    },
    {
      "cell_type": "markdown",
      "source": [
        "## Q3 문자열 뒤집기\n",
        "\n",
        "input : S\n",
        "\n",
        "0과 1로만 주어진 문자열에서 연속된 숫자들을 뒤집을 때 모두 같은 숫자로만 만들어야 한다. 뒤집는 최소 횟수는?\n"
      ],
      "metadata": {
        "id": "Ded6hWwJly2a"
      }
    },
    {
      "cell_type": "code",
      "source": [
        "def reverse_01(s):\n",
        "  before=s[0]\n",
        "  count=[0,0]\n",
        "  count[int(before)]+=1\n",
        "  for i in s:\n",
        "    if i!=before:\n",
        "      before=i\n",
        "      count[int(i)]+=1\n",
        "  #print(count)\n",
        "  return min(count)"
      ],
      "metadata": {
        "id": "9mz2jZdTmY_e"
      },
      "execution_count": null,
      "outputs": []
    },
    {
      "cell_type": "code",
      "source": [
        "s=\"0001100\"\n",
        "reverse_01(s)"
      ],
      "metadata": {
        "colab": {
          "base_uri": "https://localhost:8080/"
        },
        "id": "pSZKaTETmvY8",
        "outputId": "84e345f5-56b8-4187-bd42-b4645bbd37d5"
      },
      "execution_count": null,
      "outputs": [
        {
          "output_type": "execute_result",
          "data": {
            "text/plain": [
              "1"
            ]
          },
          "metadata": {},
          "execution_count": 34
        }
      ]
    },
    {
      "cell_type": "code",
      "source": [
        "s=\"00011001110110101\"\n",
        "reverse_01(s)"
      ],
      "metadata": {
        "colab": {
          "base_uri": "https://localhost:8080/"
        },
        "id": "YddmdVgGmz-c",
        "outputId": "681d25fc-03a5-4d3c-e51c-76355d9d9f4b"
      },
      "execution_count": null,
      "outputs": [
        {
          "output_type": "execute_result",
          "data": {
            "text/plain": [
              "5"
            ]
          },
          "metadata": {},
          "execution_count": 36
        }
      ]
    }
  ]
}