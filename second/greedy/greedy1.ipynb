{
  "nbformat": 4,
  "nbformat_minor": 0,
  "metadata": {
    "colab": {
      "name": "greedy_2_Q4-6.ipynb",
      "provenance": [],
      "collapsed_sections": [],
      "authorship_tag": "ABX9TyMIkDsVJ5dHWRtN+qcc71tN",
      "include_colab_link": true
    },
    "kernelspec": {
      "name": "python3",
      "display_name": "Python 3"
    },
    "language_info": {
      "name": "python"
    }
  },
  "cells": [
    {
      "cell_type": "markdown",
      "metadata": {
        "id": "view-in-github",
        "colab_type": "text"
      },
      "source": [
        "<a href=\"https://colab.research.google.com/github/song-na-min/algorithm_study_2022/blob/main/second/greedy/greedy1.ipynb\" target=\"_parent\"><img src=\"https://colab.research.google.com/assets/colab-badge.svg\" alt=\"Open In Colab\"/></a>"
      ]
    },
    {
      "cell_type": "markdown",
      "source": [
        "## Q4 만들 수 없는 금액\n",
        "\n",
        "input : n\n",
        "화폐단위\n",
        "\n",
        "n개의 동전을 이용해 만들 수 없는 양의 정수 금액 중 최솟값\n"
      ],
      "metadata": {
        "id": "cW9Ax7LkgObp"
      }
    },
    {
      "cell_type": "code",
      "execution_count": null,
      "metadata": {
        "id": "ObNJc0ujgNvc"
      },
      "outputs": [],
      "source": [
        "def coin(n,arr):\n",
        "  arr.sort()\n",
        "  first=arr[0]\n",
        "  sum=0\n",
        "  if first!=1:\n",
        "    return 1\n",
        "  else:\n",
        "    for i in arr:\n",
        "      if first+1>=i:\n",
        "        first=i\n",
        "        sum+=i\n",
        "        #print(first,sum)\n",
        "      else:#연속된 이후\n",
        "        if i<=sum+1:\n",
        "          #print(sum,i)\n",
        "          sum+=i\n",
        "        else:\n",
        "          break\n",
        "  return sum+1\n",
        "\n",
        "\n",
        "\n"
      ]
    },
    {
      "cell_type": "code",
      "source": [
        "arr=[3,2,1,1,9]\n",
        "n=5\n",
        "coin(n,arr)"
      ],
      "metadata": {
        "colab": {
          "base_uri": "https://localhost:8080/"
        },
        "id": "AR2XPrEIi0dW",
        "outputId": "8af1e3a7-dec7-4086-8b9a-0af0725af579"
      },
      "execution_count": null,
      "outputs": [
        {
          "output_type": "execute_result",
          "data": {
            "text/plain": [
              "8"
            ]
          },
          "metadata": {},
          "execution_count": 11
        }
      ]
    },
    {
      "cell_type": "code",
      "source": [
        "arr=[3,2,9]\n",
        "n=3\n",
        "coin(n,arr)"
      ],
      "metadata": {
        "colab": {
          "base_uri": "https://localhost:8080/"
        },
        "id": "-39s1dqwi6KD",
        "outputId": "279a2e11-0585-4f5a-ad0c-90058f9d170e"
      },
      "execution_count": null,
      "outputs": [
        {
          "output_type": "execute_result",
          "data": {
            "text/plain": [
              "1"
            ]
          },
          "metadata": {},
          "execution_count": 12
        }
      ]
    },
    {
      "cell_type": "code",
      "source": [
        "arr=[3,2,1,1,8]\n",
        "n=5\n",
        "coin(n,arr)"
      ],
      "metadata": {
        "colab": {
          "base_uri": "https://localhost:8080/"
        },
        "id": "zc4VZ1dNi9Of",
        "outputId": "496976ae-ef5c-4601-ebfd-f24fb3d972f8"
      },
      "execution_count": null,
      "outputs": [
        {
          "output_type": "execute_result",
          "data": {
            "text/plain": [
              "16"
            ]
          },
          "metadata": {},
          "execution_count": 13
        }
      ]
    },
    {
      "cell_type": "markdown",
      "source": [
        "## Q5 볼링공 고르기\n",
        "\n",
        "input : n m\n",
        "\n",
        "볼링공의 무게\n",
        "\n",
        "두 사람이 서로 무게가 다른 볼링공을 골라야한다"
      ],
      "metadata": {
        "id": "_q0vdOmyjQQU"
      }
    },
    {
      "cell_type": "code",
      "source": [
        "def bowling(n,m,arr):\n",
        "  count=[0]*(m+1)\n",
        "  result=0\n",
        "  for i in arr:\n",
        "    count[i]+=1\n",
        "  for j in count:\n",
        "    n=n-j\n",
        "    result+=j*n\n",
        "    #print(j,n,result)\n",
        "  return result"
      ],
      "metadata": {
        "id": "y3lxu5fXjqPF"
      },
      "execution_count": null,
      "outputs": []
    },
    {
      "cell_type": "code",
      "source": [
        "n=5\n",
        "m=3\n",
        "arr=[1,3,2,3,2]\n",
        "bowling(n,m,arr)"
      ],
      "metadata": {
        "colab": {
          "base_uri": "https://localhost:8080/"
        },
        "id": "v0zysyFDlCLu",
        "outputId": "ac18e66e-f65c-43c5-93d6-4211b22f16a5"
      },
      "execution_count": null,
      "outputs": [
        {
          "output_type": "execute_result",
          "data": {
            "text/plain": [
              "8"
            ]
          },
          "metadata": {},
          "execution_count": 20
        }
      ]
    },
    {
      "cell_type": "code",
      "source": [
        "n=8\n",
        "m=5\n",
        "arr=[1,5,4,3,2,4,5,2]\n",
        "bowling(n,m,arr)"
      ],
      "metadata": {
        "colab": {
          "base_uri": "https://localhost:8080/"
        },
        "id": "ntNgdCz9lQXf",
        "outputId": "ad124a1a-5477-4e92-8ce8-7be73273664d"
      },
      "execution_count": null,
      "outputs": [
        {
          "output_type": "execute_result",
          "data": {
            "text/plain": [
              "25"
            ]
          },
          "metadata": {},
          "execution_count": 21
        }
      ]
    },
    {
      "cell_type": "markdown",
      "source": [
        "## Q6 무지의 먹방 라이브\n",
        "\n",
        "*프로그래머스 링크\n",
        "https://programmers.co.kr/learn/courses/30/lessons/42891#"
      ],
      "metadata": {
        "id": "OLPdKz8QlBf9"
      }
    },
    {
      "cell_type": "code",
      "source": [
        "def solution(food_times, k):\n",
        "    answer = 0\n",
        "    \n",
        "    n=len(food_times)\n",
        "    low=0\n",
        "    while k>-1:\n",
        "        if n<=k:\n",
        "            k=k-n\n",
        "            low+=1\n",
        "            n=n-food_times.count(low)\n",
        "            #print(k,n,low)\n",
        "            answer=0\n",
        "        elif answer==len(food_times):\n",
        "            answer=-1\n",
        "            break\n",
        "        elif food_times[answer]>low:\n",
        "            k=k-1\n",
        "            answer+=1\n",
        "            #print(k,answer)\n",
        "        elif food_times[answer]<=low:\n",
        "            answer+=1\n",
        "#아무것도 안보고 푼 첫 풀이 정확성은 4개 시간초과, 효율성은 다 시간초과"
      ],
      "metadata": {
        "id": "c3fmp8ALmePZ"
      },
      "execution_count": null,
      "outputs": []
    },
    {
      "cell_type": "markdown",
      "source": [
        "## 신입 사원\n",
        "https://www.acmicpc.net/problem/1946\n",
        "\n",
        "\n",
        "언제나 최고만을 지향하는 굴지의 대기업 진영 주식회사가 신규 사원 채용을 실시한다. 인재 선발 시험은 1차 서류심사와 2차 면접시험으로 이루어진다. 최고만을 지향한다는 기업의 이념에 따라 그들은 최고의 인재들만을 사원으로 선발하고 싶어 한다.\n",
        "\n",
        "그래서 진영 주식회사는, 다른 모든 지원자와 비교했을 때 서류심사 성적과 면접시험 성적 중 적어도 하나가 다른 지원자보다 떨어지지 않는 자만 선발한다는 원칙을 세웠다. 즉, 어떤 지원자 A의 성적이 다른 어떤 지원자 B의 성적에 비해 서류 심사 결과와 면접 성적이 모두 떨어진다면 A는 결코 선발되지 않는다.\n",
        "\n",
        "이러한 조건을 만족시키면서, 진영 주식회사가 이번 신규 사원 채용에서 선발할 수 있는 신입사원의 최대 인원수를 구하는 프로그램을 작성하시오.\n",
        "\n",
        "입력:\n",
        "첫째 줄에는 테스트 케이스의 개수 T(1 ≤ T ≤ 20)가 주어진다. 각 테스트 케이스의 첫째 줄에 지원자의 숫자 N(1 ≤ N ≤ 100,000)이 주어진다. 둘째 줄부터 N개 줄에는 각각의 지원자의 서류심사 성적, 면접 성적의 순위가 공백을 사이에 두고 한 줄에 주어진다. 두 성적 순위는 모두 1위부터 N위까지 동석차 없이 결정된다고 가정한다.\n",
        "\n",
        "출력:\n",
        "각 테스트 케이스에 대해서 진영 주식회사가 선발할 수 있는 신입사원의 최대 인원수를 한 줄에 하나씩 출력한다."
      ],
      "metadata": {
        "id": "s9vmerVoSVjx"
      }
    },
    {
      "cell_type": "code",
      "source": [
        "def solution(n):\n",
        "  arr=[(3,6),(7,3),(4,2),(1,4),(5,7),(2,5),(6,1)]\n",
        "  arr.sort()\n",
        "  #print(arr)\n",
        "  count=0\n",
        "  min_value2=n+1\n",
        "  for person in arr:\n",
        "    if person[0]==1:\n",
        "      count+=1\n",
        "      min_value2=person[1]\n",
        "    if person[1]<min_value2:\n",
        "      count+=1\n",
        "      min_value2=person[1]\n",
        "      #print(person,min_value2)\n",
        "      #print(count)\n",
        "  return count\n",
        "solution(5)"
      ],
      "metadata": {
        "colab": {
          "base_uri": "https://localhost:8080/"
        },
        "id": "oDc0BersSpcQ",
        "outputId": "db55725b-0ef9-4467-fdcd-4b82aee3ee88"
      },
      "execution_count": null,
      "outputs": [
        {
          "output_type": "execute_result",
          "data": {
            "text/plain": [
              "3"
            ]
          },
          "metadata": {},
          "execution_count": 5
        }
      ]
    },
    {
      "cell_type": "code",
      "source": [
        "import sys\n",
        "if __name__==\"__main__\":\n",
        "    T=int(sys.stdin.readline())\n",
        "    for _ in range(T):\n",
        "        n=int(sys.stdin.readline())\n",
        "        arr=[]\n",
        "        for _ in range(n):\n",
        "            a,b=map(int,sys.stdin.readline().split())\n",
        "            arr.append((a,b))\n",
        "        arr.sort()\n",
        "        count=0\n",
        "        min_value2=n+1\n",
        "        for person in arr:\n",
        "            if person[1]<min_value2:\n",
        "                count+=1\n",
        "                min_value2=person[1]\n",
        "        print(count)\n",
        "#위 함수에서 test_case를 여러개 입력하도록 수정하고 , 시간초과가 나와서 input을 sys를 사용하도록 수정하였더니 정답이 나왔다\n",
        "#또한 if person[0]==1부분이 밑에 if person[1]<min_value2 와 중복되므로 삭제하였다. 이유는 처음 min_value2를 n+1로 초기화하여서\n",
        "#처음에는 무조건 if문 안으로 들어가기 때문"
      ],
      "metadata": {
        "colab": {
          "base_uri": "https://localhost:8080/"
        },
        "id": "CsekNySfWhbK",
        "outputId": "dbdc2267-3a5d-437d-bf0e-a3ba2b9d8ff5"
      },
      "execution_count": null,
      "outputs": [
        {
          "output_type": "stream",
          "name": "stdout",
          "text": [
            "1\n",
            "5\n",
            "3 2\n",
            "1 4\n",
            "4 1\n",
            "2 3\n",
            "5 5\n",
            "4\n"
          ]
        }
      ]
    },
    {
      "cell_type": "markdown",
      "source": [
        "## 10610\n",
        "https://www.acmicpc.net/problem/10610\n",
        "\n",
        "input : N을 입력받는다. N는 숫자로 구성되어 있으며, 0으로 시작하지 않는다.\n",
        "\n",
        "output: 포함된 숫자들을 섞어 30의 배수가 되는 가장 큰 수를 출력하라. 그 수가 존재하지 않는다면, -1을 출력하라.\n"
      ],
      "metadata": {
        "id": "6kVIXiUlf26D"
      }
    },
    {
      "cell_type": "code",
      "source": [
        "def solution2(n):\n",
        "  list_n=list(map(int,str(n)))\n",
        "  print(list_n)\n",
        "  print(sum(list_n))\n",
        "  list_n.sort(reverse=True)\n",
        "  if sum(list_n)%3==0 and list_n[-1]==0:\n",
        "    print(''.join(map(str,list_n)))\n",
        "  else:\n",
        "    return -1\n",
        "\n",
        "#문제를 제대로 안보고 3의 배수인줄 알았다 그런데 \"30\"의 배수이므로 마지막으로 0이 오도록 해야한다\n",
        "\n"
      ],
      "metadata": {
        "id": "YRT-rtEqgI_H"
      },
      "execution_count": 16,
      "outputs": []
    },
    {
      "cell_type": "code",
      "source": [
        "n=80875542\n",
        "solution2(n)"
      ],
      "metadata": {
        "colab": {
          "base_uri": "https://localhost:8080/"
        },
        "id": "RwNoWuaflOpi",
        "outputId": "fc7cd220-3c1b-4a57-ef01-08271425e9a8"
      },
      "execution_count": 17,
      "outputs": [
        {
          "output_type": "stream",
          "name": "stdout",
          "text": [
            "[8, 0, 8, 7, 5, 5, 4, 2]\n",
            "39\n",
            "88755420\n"
          ]
        }
      ]
    },
    {
      "cell_type": "code",
      "source": [
        "n=2931\n",
        "solution2(n)"
      ],
      "metadata": {
        "colab": {
          "base_uri": "https://localhost:8080/"
        },
        "id": "r3DjBMQSlOvO",
        "outputId": "023be13b-9297-4489-ed70-a1aaff19d6e8"
      },
      "execution_count": 18,
      "outputs": [
        {
          "output_type": "stream",
          "name": "stdout",
          "text": [
            "[2, 9, 3, 1]\n",
            "15\n"
          ]
        },
        {
          "output_type": "execute_result",
          "data": {
            "text/plain": [
              "-1"
            ]
          },
          "metadata": {},
          "execution_count": 18
        }
      ]
    }
  ]
}