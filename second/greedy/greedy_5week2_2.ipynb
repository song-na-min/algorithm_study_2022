{
  "nbformat": 4,
  "nbformat_minor": 0,
  "metadata": {
    "colab": {
      "name": "greedy_5week2-2.ipynb",
      "provenance": [],
      "collapsed_sections": [],
      "authorship_tag": "ABX9TyP2DoHUGvclVwwWtJhafTxR",
      "include_colab_link": true
    },
    "kernelspec": {
      "name": "python3",
      "display_name": "Python 3"
    },
    "language_info": {
      "name": "python"
    }
  },
  "cells": [
    {
      "cell_type": "markdown",
      "metadata": {
        "id": "view-in-github",
        "colab_type": "text"
      },
      "source": [
        "<a href=\"https://colab.research.google.com/github/song-na-min/algorithm_study_2022/blob/main/second/greedy/greedy_5week2_2.ipynb\" target=\"_parent\"><img src=\"https://colab.research.google.com/assets/colab-badge.svg\" alt=\"Open In Colab\"/></a>"
      ]
    },
    {
      "cell_type": "markdown",
      "source": [
        "##2.큰수의 법칙\n",
        "input : n m k\n",
        "        n개의 자연수\n",
        "\n",
        "\n"
      ],
      "metadata": {
        "id": "9mbUCVEGZp8p"
      }
    },
    {
      "cell_type": "code",
      "execution_count": 15,
      "metadata": {
        "id": "pOPPI6iGZfG8"
      },
      "outputs": [],
      "source": [
        "def large_numbers(n,m,k,arr):\n",
        "  arr.sort(reverse=True)\n",
        "  max_num1=arr[0]\n",
        "  max_num2=arr[1]\n",
        "  #result= max_num*k\n",
        "  #print(arr)\n",
        "  multi=m//(k+1)\n",
        "  re=m%(k+1)\n",
        "  #print(multi,re)\n",
        "  #print(max_num1,max_num2)\n",
        "  result=max_num1*(k*multi+re)+max_num2*multi\n",
        "  return result"
      ]
    },
    {
      "cell_type": "code",
      "source": [
        "n=5\n",
        "m=8\n",
        "k=3\n",
        "arr=[2,4,5,4,6]\n",
        "print(large_numbers(n,m,k,arr))"
      ],
      "metadata": {
        "colab": {
          "base_uri": "https://localhost:8080/"
        },
        "id": "wDw15rkQb1Oj",
        "outputId": "b3236f31-35c3-4a08-8133-4919c1797ef9"
      },
      "execution_count": 16,
      "outputs": [
        {
          "output_type": "stream",
          "name": "stdout",
          "text": [
            "46\n"
          ]
        }
      ]
    },
    {
      "cell_type": "markdown",
      "source": [
        "##3.숫자 카드 게임\n",
        "input : n m (행 열)"
      ],
      "metadata": {
        "id": "RsHKwXhWcfWR"
      }
    },
    {
      "cell_type": "code",
      "source": [
        "def card_game_with_min(n,m,arr):\n",
        "  large_num=0\n",
        "  for col in arr:\n",
        "    if large_num<min(col):\n",
        "      large_num=min(col)\n",
        "    #min_value=min(col)\n",
        "    #large_num=max(large_num,min_value)\n",
        "    #답지에서는 max함수를 이용해서 비교\n",
        "  return large_num"
      ],
      "metadata": {
        "id": "dXT4npNUdHap"
      },
      "execution_count": 26,
      "outputs": []
    },
    {
      "cell_type": "code",
      "source": [
        "#2중 반복문 구조를 이용해서 min_value 구하기\n",
        "def card_game_with_loop(n,m,arr):\n",
        "  large_num=0\n",
        "  for col in arr:\n",
        "    min_value=10001\n",
        "    for a in col:\n",
        "      min_value=min(min_value,a)\n",
        "    large_num=max(large_num,min_value)\n",
        "  return large_num"
      ],
      "metadata": {
        "id": "l3cTmEtheuag"
      },
      "execution_count": 31,
      "outputs": []
    },
    {
      "cell_type": "code",
      "source": [
        "n=3\n",
        "m=3\n",
        "arr=[[3,1,2],[4,1,4],[2,2,2]]\n",
        "print(card_game_with_min(n,m,arr))\n",
        "print(card_game_with_loop(n,m,arr))"
      ],
      "metadata": {
        "colab": {
          "base_uri": "https://localhost:8080/"
        },
        "id": "lV-6n2oCdpAm",
        "outputId": "b0dc240e-95b1-4ee1-d9d2-f03ed192b30a"
      },
      "execution_count": 33,
      "outputs": [
        {
          "output_type": "stream",
          "name": "stdout",
          "text": [
            "2\n",
            "2\n"
          ]
        }
      ]
    },
    {
      "cell_type": "code",
      "source": [
        "n=2\n",
        "m=4\n",
        "arr=[[7,3,1,8],[3,3,3,4]]\n",
        "print(card_game_with_min(n,m,arr))\n",
        "print(card_game_with_loop(n,m,arr))"
      ],
      "metadata": {
        "colab": {
          "base_uri": "https://localhost:8080/"
        },
        "id": "y0orjgZEd_WM",
        "outputId": "547d2329-f5b7-47b6-b8a3-b790c7613edb"
      },
      "execution_count": 34,
      "outputs": [
        {
          "output_type": "stream",
          "name": "stdout",
          "text": [
            "3\n",
            "3\n"
          ]
        }
      ]
    },
    {
      "cell_type": "markdown",
      "source": [
        "##4.1이 될 때까지\n",
        "input : n k"
      ],
      "metadata": {
        "id": "35NdbAJffZcd"
      }
    },
    {
      "cell_type": "code",
      "source": [
        "def to_one(n,k):\n",
        "  count=0\n",
        "  while n!=1:\n",
        "    if n%k==0:\n",
        "      n=n/k\n",
        "    else:\n",
        "      n=n-1\n",
        "    count+=1\n",
        "    #print(n)\n",
        "  return count"
      ],
      "metadata": {
        "id": "ploPTqL3fewo"
      },
      "execution_count": 37,
      "outputs": []
    },
    {
      "cell_type": "code",
      "source": [
        "n=25\n",
        "k=5\n",
        "to_one(n,k)"
      ],
      "metadata": {
        "colab": {
          "base_uri": "https://localhost:8080/"
        },
        "id": "K-U1mHb6f0oM",
        "outputId": "06692d66-9e6f-487c-df39-534ff07377ce"
      },
      "execution_count": 38,
      "outputs": [
        {
          "output_type": "execute_result",
          "data": {
            "text/plain": [
              "2"
            ]
          },
          "metadata": {},
          "execution_count": 38
        }
      ]
    },
    {
      "cell_type": "markdown",
      "source": [
        "## 멀티탭 스케줄링\n",
        "https://www.acmicpc.net/problem/1700\n"
      ],
      "metadata": {
        "id": "uTxzR3GTgRrT"
      }
    },
    {
      "cell_type": "code",
      "source": [
        "import sys\n",
        "def scheduling(n,k,arr):\n",
        "  result=0\n",
        "  schedule=[]\n",
        "  output_num=0\n",
        "  schedule.extend(arr[:n])\n",
        "  print(schedule)\n",
        "  max_l=0\n",
        "  for a in range(n,k):\n",
        "    print(a,arr[a])\n",
        "    if arr[a] in schedule:\n",
        "      continue\n",
        "    else:\n",
        "      print(\"schedule\",end=\" \")\n",
        "      print(schedule[0],schedule[1])\n",
        "      for j in schedule:\n",
        "        if j not in arr[n:]:\n",
        "          output_num=j\n",
        "          break\n",
        "        elif arr[n:].index(j)>max_l:\n",
        "          max_l=arr[n:].index(j)\n",
        "          output_num=j\n",
        "      schedule.remove(output_num)\n",
        "      schedule.append(arr[a])\n",
        "      result+=1\n",
        "    #print(count)\n",
        "  return result"
      ],
      "metadata": {
        "id": "VkWIdwoLgtvL"
      },
      "execution_count": 75,
      "outputs": []
    },
    {
      "cell_type": "code",
      "source": [
        "n=2\n",
        "k=7\n",
        "arr=[2 ,3 ,2 ,3 ,1 ,2 ,7]\n",
        "scheduling(n,k,arr)"
      ],
      "metadata": {
        "colab": {
          "base_uri": "https://localhost:8080/"
        },
        "id": "N56KSML7jiFo",
        "outputId": "ddb466bc-8f87-4a3a-819c-5a71ec8df560"
      },
      "execution_count": 76,
      "outputs": [
        {
          "output_type": "stream",
          "name": "stdout",
          "text": [
            "[2, 3]\n",
            "2 2\n",
            "3 3\n",
            "4 1\n",
            "schedule 2 3\n",
            "5 2\n",
            "6 7\n",
            "schedule 2 1\n"
          ]
        },
        {
          "output_type": "execute_result",
          "data": {
            "text/plain": [
              "2"
            ]
          },
          "metadata": {},
          "execution_count": 76
        }
      ]
    },
    {
      "cell_type": "code",
      "source": [
        "import sys\n",
        "\n",
        "n,k=map(int,sys.stdin.readline().split())\n",
        "arr=list(map(int,sys.stdin.readline().split()))\n",
        "result=0\n",
        "schedule=[0]*n\n",
        "output_num=0\n",
        "num=0\n",
        "max_l=0\n",
        "for a in arr:\n",
        "    if a in schedule:\n",
        "        continue\n",
        "    elif 0 in schedule:\n",
        "        schedule[schedule.index(0)]=a\n",
        "    else:\n",
        "        for j in schedule:\n",
        "            if j not in arr[num:]:\n",
        "                output_num=j\n",
        "                break\n",
        "            elif arr[num:].index(j)>max_l:\n",
        "                max_l=arr[num:].index(j)\n",
        "                output_num=j\n",
        "        schedule[schedule.index(output_num)]=a\n",
        "        output_num=max_l=0\n",
        "        result+=1\n",
        "    num+=1\n",
        "print(result)"
      ],
      "metadata": {
        "id": "QMprMRFkvnti"
      },
      "execution_count": null,
      "outputs": []
    },
    {
      "cell_type": "code",
      "source": [
        "from sys import stdin\n",
        "N, K = stdin.readline().split()\n",
        "N = int(N)\n",
        "K = int(K)\n",
        "multap = [0] * N\n",
        "li = list(map(int, stdin.readline().split()))\n",
        "res = swap = num = max_I = 0\n",
        "for i in li:\n",
        "    if i in multap:\n",
        "        pass\n",
        "    elif 0 in multap:\n",
        "        multap[multap.index(0)] = i\n",
        "    else:\n",
        "        for j in multap:\n",
        "            if j not in li[num:]:\n",
        "                swap = j\n",
        "                break\n",
        "            elif li[num:].index(j) > max_I:\n",
        "                max_I = li[num:].index(j)\n",
        "                swap = j\n",
        "        multap[multap.index(swap)] = i\n",
        "        max_I = swap = 0\n",
        "        res += 1\n",
        "    num += 1\n",
        "print(res)"
      ],
      "metadata": {
        "id": "2S5k0y5SvuTN"
      },
      "execution_count": null,
      "outputs": []
    },
    {
      "cell_type": "code",
      "source": [
        "from sys import stdin\n",
        "n,k=stdin.readline().split()\n",
        "n=int(n)\n",
        "k=int(k)\n",
        "arr=list(map(int,stdin.readline().split()))\n",
        "schedule=[0]*n\n",
        "output_num=num=max_l=result=0\n",
        "for a in arr:\n",
        "    if a in schedule:\n",
        "        continue\n",
        "    elif 0 in schedule:\n",
        "        schedule[schedule.index(0)]=a\n",
        "    else:\n",
        "        for j in schedule:\n",
        "            if j not in arr[num:]:\n",
        "                output_num=j\n",
        "                break\n",
        "            elif arr[num:].index(j)>max_l:\n",
        "                max_l=arr[num:].index(j)\n",
        "                output_num=j\n",
        "        schedule[schedule.index(output_num)]=a\n",
        "        output_num=max_l=0\n",
        "        result+=1\n",
        "    num+=1\n",
        "print(result)\n",
        "#그대로 했는것같은데 런타임에러 value error발생"
      ],
      "metadata": {
        "id": "K4CIp_izxgAX"
      },
      "execution_count": null,
      "outputs": []
    }
  ]
}