{
  "nbformat": 4,
  "nbformat_minor": 0,
  "metadata": {
    "colab": {
      "name": "python_docs.ipynb",
      "provenance": [],
      "authorship_tag": "ABX9TyN9vlLq+vE9Dc+ehZkoSsTO",
      "include_colab_link": true
    },
    "kernelspec": {
      "name": "python3",
      "display_name": "Python 3"
    },
    "language_info": {
      "name": "python"
    }
  },
  "cells": [
    {
      "cell_type": "markdown",
      "metadata": {
        "id": "view-in-github",
        "colab_type": "text"
      },
      "source": [
        "<a href=\"https://colab.research.google.com/github/song-na-min/algorithm_study_2022/blob/main/python/python_docs.ipynb\" target=\"_parent\"><img src=\"https://colab.research.google.com/assets/colab-badge.svg\" alt=\"Open In Colab\"/></a>"
      ]
    },
    {
      "cell_type": "markdown",
      "source": [
        "https://docs.python.org/ko/3/tutorial/index.html\n",
        "python docs\n"
      ],
      "metadata": {
        "id": "zFu52E81_YJ3"
      }
    },
    {
      "cell_type": "markdown",
      "source": [
        "# 3.1 파이썬을 계산기로 사용하기\n"
      ],
      "metadata": {
        "id": "J1xQHvml_ciB"
      }
    },
    {
      "cell_type": "markdown",
      "source": [
        "##(1) 숫자\n",
        "연산을 보기좋게 출력하기 위해\n",
        "\n",
        "```\n",
        "print(~,end=\" = \")``` 을 이용하여 한 줄로 표현"
      ],
      "metadata": {
        "id": "POetJ3FBKzLg"
      }
    },
    {
      "cell_type": "code",
      "source": [
        "#division\n",
        "print(\"17 / 3\",end=' = ')\n",
        "print(17/3) # 나눗셈 (/)은 항상 float(실수)를 돌려준다\n",
        "\n",
        "print(\"17 // 3\",end=' = ')\n",
        "print(17//3) #나눗셈을 소수점 밑으로는 버리도록\n",
        "\n",
        "print(\"17 % 3\" ,end=' = ')\n",
        "print(17%3) # 나눗셈의 나머지(moduler 연산)\n",
        "\n",
        "#거듭제곱\n",
        "print(\"5 ** 2\" ,end=' = ')\n",
        "print(5**2) # 5의 2제곱\n",
        "\n",
        "print(\"2 ** 7\" ,end=' = ')\n",
        "print(2**7)\n"
      ],
      "metadata": {
        "colab": {
          "base_uri": "https://localhost:8080/"
        },
        "id": "knxvJqLN_ux3",
        "outputId": "3bc1516d-d2e6-4e73-d62f-bf83addeb8b4"
      },
      "execution_count": 7,
      "outputs": [
        {
          "output_type": "stream",
          "name": "stdout",
          "text": [
            "17 / 3 = 5.666666666666667\n",
            "17 // 3 = 5\n",
            "17 % 3 = 2\n",
            "5 ** 2 = 25\n",
            "2 ** 7 = 128\n"
          ]
        }
      ]
    },
    {
      "cell_type": "markdown",
      "source": [
        "*마지막에 실행된 결과값(underscore _ )\n",
        "\n",
        "-인터프리터에서 사용되는 경우에만\n",
        "\n",
        "-관련 링크 : https://doorbw.tistory.com/153"
      ],
      "metadata": {
        "id": "MEnMf6Q6EJBy"
      }
    },
    {
      "cell_type": "code",
      "source": [
        "# 마지막에 실행된 결과값\n",
        "\n",
        "tax=12.5/100\n",
        "price=100.50\n",
        "print(\"price*tax\",end=\" = \")\n",
        "print(price*tax)\n",
        "print(\"가장 최근 변수\",end=\" = \")\n",
        "#print(_)\n",
        "#print(price+_)\n",
        "#print(_)\n"
      ],
      "metadata": {
        "id": "iVtC852kDYPt",
        "colab": {
          "base_uri": "https://localhost:8080/"
        },
        "outputId": "c8f8adee-1196-4e4a-aa24-b685ca04a350"
      },
      "execution_count": 8,
      "outputs": [
        {
          "output_type": "stream",
          "name": "stdout",
          "text": [
            "price*tax = 12.5625\n",
            "가장 최근 변수 = "
          ]
        }
      ]
    },
    {
      "cell_type": "markdown",
      "source": [
        "##(2)문자열\n"
      ],
      "metadata": {
        "id": "yJJdVtmoFcdB"
      }
    },
    {
      "cell_type": "code",
      "source": [
        "###따옴표 출력\n",
        "\n",
        "print(\"spam eggs\") #spam eggs 일반 문자열 출력\n",
        "print('doesn\\'t') #작은따옴표로 둘러싸인 문자열 내에서 작은 따옴표를 출력하기위해서 \\ 앞에 붙이기\n",
        "print(\"doesn't\") #위와 달리 큰 따옴표 안에 작은 따옴표를 출력하는 경우 \\가 필요없다\n",
        "print(' \"yes\" they said') #반대도 마찬가지\n",
        "print(\"\\\"yes\\\" they said\") #즉 문자열을 감싸는 따옴표를 출력하기 위해서는 \\가 필요하고\n",
        "#나머지 따옴표를 출력하는데에는 \\가 필요 없다\n",
        "\n",
        "### \\ 출력\n",
        "print('C:\\some\\name')# \\name을 출력하고 싶지만 \\n이 특수문자(공백)으로 취급되어 잘못 출력\n",
        "print(r'C:\\some\\name')# \\를 특수문자가 아니게 출력하고 싶으면 문자열 앞에 r을 붙여서 raw string으로 만든다\n",
        "#raw string은 특수문자를 무시하는 것이다\n",
        "\n",
        "\n",
        "###여러 줄(문자열 리터러를 여러줄로)\n",
        "#문자열 리터럴을 여러줄로 확장하기 위해 삼중 따옴표를 사용한다\n",
        "print(\"\\n\\nstart-1\")\n",
        "print(\"\"\"\n",
        "Usage:thingy [options]\n",
        "  -h          display\n",
        "  -h hostname hostname\n",
        "  \"\"\")\n",
        "#줄넘김 문자는 자동으로 문자열에 포함된다=> 자동으로 문장 앞과 뒤에 빈 줄이 들어간다\n",
        "\n",
        "print(r'start-2 with \\ ')\n",
        "print(\"\"\"\\\n",
        "Usage:thingy [options]\n",
        "  -h          display\n",
        "  -h hostname hostname\\\n",
        "  \"\"\")\n",
        "#위 상황을 없애기 위해서는 \\를 앞과 뒤에 넣어서 문장 앞 뒤 빈 줄을 제거한다,"
      ],
      "metadata": {
        "id": "TpE3RYRL_bgD",
        "colab": {
          "base_uri": "https://localhost:8080/"
        },
        "outputId": "53b95811-f730-44ed-eaad-6d3f25bc2989"
      },
      "execution_count": 9,
      "outputs": [
        {
          "output_type": "stream",
          "name": "stdout",
          "text": [
            "spam eggs\n",
            "doesn't\n",
            "doesn't\n",
            " \"yes\" they said\n",
            "\"yes\" they said\n",
            "C:\\some\n",
            "ame\n",
            "C:\\some\\name\n",
            "\n",
            "\n",
            "start-1\n",
            "\n",
            "Usage:thingy [options]\n",
            "  -h          display\n",
            "  -h hostname hostname\n",
            "  \n",
            "start-2 with \\ \n",
            "Usage:thingy [options]\n",
            "  -h          display\n",
            "  -h hostname hostname  \n"
          ]
        }
      ]
    },
    {
      "cell_type": "code",
      "source": [
        "### 문자열과 연산자\n",
        "#문자열에 *와 +를 통해 반복하고 이어붙일 수 있다\n",
        "print(3*'three'+'plus')\n",
        "#+연산 없이 연속해서 놓아도 자동으로 이어붙여진다(단 두개의 리터럴에만 적용 가능하고 변수나 표현식에는 불가능하다)\n",
        "print('hi~''bye')\n",
        "prefix='hi'\n",
        "#print(prefix'bye')\n",
        "print(prefix+'bye')# 대신 +연산 사용\n",
        "\n",
        "#print(('un'*3) 'ium') #표현식 또한 연속으로 자동 이어붙이기 불가\n",
        "print(('un'*3)+'ium') #대신 +연산 사용"
      ],
      "metadata": {
        "colab": {
          "base_uri": "https://localhost:8080/"
        },
        "id": "d60ro1GGyzLL",
        "outputId": "bac49005-9ad4-4668-d01d-6f23d15a6989"
      },
      "execution_count": 10,
      "outputs": [
        {
          "output_type": "stream",
          "name": "stdout",
          "text": [
            "threethreethreeplus\n",
            "hi~bye\n",
            "hibye\n",
            "unununium\n"
          ]
        }
      ]
    },
    {
      "cell_type": "markdown",
      "source": [
        "*문자열을 인덱스(서브 스크립트)로\n",
        "\n",
        "*슬라이스의 동작은 각 index가 문자들 사이의 위치를 가리킨다고 생각하는 것이다\n",
        "\n",
        "\n",
        "![image.png](data:image/png;base64,iVBORw0KGgoAAAANSUhEUgAAAMIAAABYCAYAAACnHCgUAAAAAXNSR0IArs4c6QAAAARnQU1BAACxjwv8YQUAAAAJcEhZcwAADsMAAA7DAcdvqGQAAANNSURBVHhe7d2LbdswFIVhtzN1ha7SrNARukK6SlfILF0hubfwBRiJqiWKPKTo/wOEvAAfkOYR5ShGvvx9f3u/AU/u6/0j8NQoAmAoAmAoAmCKivDz5ff9Mw3y6iJvjR0BMBQBMIfuI+S2nF+vP/593NqO/Oc1f0YeeTmP8h4puqHmgXsDaiCvLvLWuDQCDEUADH9rBBh2BMBQBMBQBMBQBMBQBMBQBMAUFcHv3CmRVxd5a5Id4fu3l9WBcsxffbJLoz9vr5+O2Z5MFue18RoBMFMWIXd2bnnGjsf2j6qdIbJ6ZLaWjkuR59gRKvBLvfgYn7cWWXG0XjD++KospxybkxXBB5MePsBWlpPXOm92y/lTLU6lbi+WgZFMf2nEboA9pi2CL/7Ztm+0M/2OwG5w3vKkMuMuO30RVGKxzLoLpeOb8eQiKYJ64no9YZ6nyMxlqHJ7jE+RyXuWAcOlEWAoAmAoAmAoAmAoAmAoAmCKisB7Xusir66SPHYEwFAEwPAfc+7ImzvvEf5jTgZ5dV0hj0sjwFAEwPDXp4BhRwAMRQAMRQAMRQAMRQAMRQAMRQDM4fsIfvs6pbh1rrxFrx5fj/kMred1ObagzNybdfiP7pYPrJrMlhlBPb4e8xkU86oaSzgzn8NfGiknEvPZu354jZBQl65XydVn6iugCP+hWjCeE8dsCzQdmx+tleZRhA0+iapF6TlxHHnySijH5dKxKcZXmkcRMtSLZVZXmkOKsDBzCSj4NoqQUC+Uvdt2TZ4ZR3zdSo/xlaIIT8RLnh7xPXBn+ZOtM1jL7B7zGRTzqh5faR5v1QQMl0aAoQiAoQiAoQiAoQiAGfrXp8usoPoVI79erEMxj2cN/cacnhMYC6Zl/gjz2XqOFfNYw+lLo9EHiL6usj54jZDR+iwZ1IuEk9a2w0XwRZIeranzekjHp1ys6ryRrV4jbC02n7DcxJ2dzJHyXPr4Z7Pco7yl1uMLNcbm9uTVympp6BfLOa3z0sfv8QQqMmd7zmrgNULiCk/YWc8wxhJDF8GfNDXPjCO+bkU9Ps+jBHnsCAlfJOkR38P8hr6z7NR5KcUZVDm+ZVZQjFH5vJU4XARgRlwaAYYiAIYiAIYiAIYiALfb7QPvHQLGm7uOkgAAAABJRU5ErkJggg==)"
      ],
      "metadata": {
        "id": "rRchKkfhKqAe"
      }
    },
    {
      "cell_type": "code",
      "source": [
        "word='Python'\n",
        "print(word[0]) #첫 문자가 0번 index에 들어간다\n",
        "print(word[5])\n",
        "print(word[-1])# index가 음수가 되면 -1부터 시작한다\n",
        "print(word[-6])\n",
        "\n",
        "#슬라이싱\n",
        "print(word[0:2]) #0번 index부터 2번 index 전까지 출력\n",
        "print(word[2:5]) #2번 index부터 5번 index 전까지 출력\n",
        "print(word[:2]) #첫 index 의 default는 0으로\n",
        "print(word[4:])#두번째 index의 default는 마지막 문자까지\n",
        "\n",
        "print(word[:2]+word[2:]) #모든 문자 출력(두 index가 같으므로)+문자열 합치기\n",
        "print(word[:42]) #범위를 벗어나는 index는 오류이지만 슬라이스는 가능하다(각 index의 default로 처리됨)"
      ],
      "metadata": {
        "colab": {
          "base_uri": "https://localhost:8080/"
        },
        "id": "o0l6Ht-WLE-b",
        "outputId": "a4f34e28-fa15-4b97-8b94-9408371d1fc4"
      },
      "execution_count": 11,
      "outputs": [
        {
          "output_type": "stream",
          "name": "stdout",
          "text": [
            "P\n",
            "n\n",
            "n\n",
            "P\n",
            "Py\n",
            "tho\n",
            "Py\n",
            "on\n",
            "Python\n",
            "Python\n"
          ]
        }
      ]
    },
    {
      "cell_type": "markdown",
      "source": [
        "*파이썬의 문자열은 변경할 수 없다"
      ],
      "metadata": {
        "id": "zgjNut1xNb3q"
      }
    },
    {
      "cell_type": "code",
      "source": [
        "#word[0]='j' #TypeError: 'str' object does not support item assignment\n",
        "#따라서 다른 문자열은 새로 만들어야 한다\n",
        "word_j = 'j'+word[1:]\n",
        "print(word_j)\n",
        "\n",
        "# len()은 문자열의 길이를 return 한다\n",
        "print(len(word_j))"
      ],
      "metadata": {
        "colab": {
          "base_uri": "https://localhost:8080/"
        },
        "id": "uctaFnU-Nhx6",
        "outputId": "9d8c64c6-6b37-45db-9c92-807b4b78861b"
      },
      "execution_count": 12,
      "outputs": [
        {
          "output_type": "stream",
          "name": "stdout",
          "text": [
            "jython\n",
            "6\n"
          ]
        }
      ]
    },
    {
      "cell_type": "markdown",
      "source": [
        "##리스트\n",
        "*서로 다른 형(타입)의 항목을 포함할 수 있다\n",
        "\n",
        "*문자열과 달리 리스트는 변경할 수 있다"
      ],
      "metadata": {
        "id": "VmKH5LgPN_y-"
      }
    },
    {
      "cell_type": "code",
      "source": [
        "squares=[1,4,9,16,25]\n",
        "print(squares)\n",
        "\n",
        "#위 문자열에서와 같이 인덱싱과 슬라이싱 가능\n",
        "print(squares[0])\n",
        "print(squares[-1])\n",
        "print(squares[-3:])\n",
        "# 단 슬라이스 연산은 새 리스트를 돌려준다(return 타입이 리스트이다)\n",
        "\n",
        "print(squares+[36,49,64,81,100]) #+연산을 통해 이어붙일 수 있다\n",
        "\n",
        "### 문자열과 달리 리스트는 변경할 수 있다\n",
        "print(\"\\n변경전\")\n",
        "print(squares)\n",
        "squares[1]=4*3\n",
        "print(\"변경후\")\n",
        "print(squares)"
      ],
      "metadata": {
        "colab": {
          "base_uri": "https://localhost:8080/"
        },
        "id": "uMLqsj2WOMoQ",
        "outputId": "1b952d96-9218-424f-93ef-470b178c9c88"
      },
      "execution_count": 13,
      "outputs": [
        {
          "output_type": "stream",
          "name": "stdout",
          "text": [
            "[1, 4, 9, 16, 25]\n",
            "1\n",
            "25\n",
            "[9, 16, 25]\n",
            "[1, 4, 9, 16, 25, 36, 49, 64, 81, 100]\n",
            "\n",
            "변경전\n",
            "[1, 4, 9, 16, 25]\n",
            "변경후\n",
            "[1, 12, 9, 16, 25]\n"
          ]
        }
      ]
    },
    {
      "cell_type": "code",
      "source": [
        "# append() : 리스트 끝에 새 항목 추가\n",
        "cubes=[1,8,27,65,125]\n",
        "cubes.append(216)\n",
        "cubes.append(7**2)\n",
        "print(cubes)\n",
        "\n",
        "# 슬라이스에 대입하여 리스트 길이변경,삭제\n",
        "letters=['a','b','c','d','e','f','g']\n",
        "print(letters[2:5])\n",
        "letters[2:5]=[]#index2에서 4까지의 값을 없애기\n",
        "print(letters)\n",
        "\n",
        "print(len(letters))# len()으로 리스트 길이 출력\n",
        "\n",
        "letters[:]=[]#모든 값 삭제\n",
        "print(letters)\n",
        "\n",
        "# 리스트 중첩(리스트를 포함하는 리스트)\n",
        "a=['a','b','c']\n",
        "n=[1,2,3]\n",
        "x=[a,n]#위 두개의 리스트를 포함하는 리스트\n",
        "print(x)\n",
        "print(x[0])#0번index는 a(리스트) 자체가 출력됨\n",
        "print(x[0][1])# 0번 index의 리스트에서 1번 index값을 출력"
      ],
      "metadata": {
        "colab": {
          "base_uri": "https://localhost:8080/"
        },
        "id": "HjhQRjiRPoy-",
        "outputId": "aa416330-5440-48e9-89e8-3eb17639f1a5"
      },
      "execution_count": 14,
      "outputs": [
        {
          "output_type": "stream",
          "name": "stdout",
          "text": [
            "[1, 8, 27, 65, 125, 216, 49]\n",
            "['c', 'd', 'e']\n",
            "['a', 'b', 'f', 'g']\n",
            "4\n",
            "[]\n",
            "[['a', 'b', 'c'], [1, 2, 3]]\n",
            "['a', 'b', 'c']\n",
            "b\n"
          ]
        }
      ]
    },
    {
      "cell_type": "markdown",
      "source": [
        "# 4. 기타 제어 흐름 도구"
      ],
      "metadata": {
        "id": "FwNiAOMd6ywB"
      }
    },
    {
      "cell_type": "markdown",
      "source": [
        "## 1. if문\n"
      ],
      "metadata": {
        "id": "s0Cwsmm666iQ"
      }
    },
    {
      "cell_type": "code",
      "source": [
        "x= int(input(\"please enter an integer:\"))\n",
        "\n",
        "if x<0: # 입력값이 음수이면\n",
        "  x=0 \n",
        "  print('Negative changed to zero')\n",
        "elif x==0: #입력값이 0이면\n",
        "  print('Zero')\n",
        "else: #위 두가지 경우가 아닌 나머지\n",
        "  print('More')\n"
      ],
      "metadata": {
        "colab": {
          "base_uri": "https://localhost:8080/"
        },
        "id": "fbkPkiSy69ek",
        "outputId": "dadb6cb9-bd25-4a9c-e242-89a513b7dccf"
      },
      "execution_count": 16,
      "outputs": [
        {
          "output_type": "stream",
          "name": "stdout",
          "text": [
            "please enter an integer:1\n",
            "More\n"
          ]
        }
      ]
    },
    {
      "cell_type": "markdown",
      "source": [
        "## for문"
      ],
      "metadata": {
        "id": "kpEV7GmC7lJ3"
      }
    },
    {
      "cell_type": "code",
      "source": [
        "words=['cat','window','defenestrate']\n",
        "for w in words: #words에 있는 요소들을 w에 하나씩 저장하면서 순서대로 끝까지\n",
        "  print(w,len(w))"
      ],
      "metadata": {
        "colab": {
          "base_uri": "https://localhost:8080/"
        },
        "id": "_jLCUEVO7ogb",
        "outputId": "df8bb325-6eb0-4128-ce28-160d3c29e880"
      },
      "execution_count": 17,
      "outputs": [
        {
          "output_type": "stream",
          "name": "stdout",
          "text": [
            "cat 3\n",
            "window 6\n",
            "defenestrate 12\n"
          ]
        }
      ]
    },
    {
      "cell_type": "code",
      "source": [
        "users={'hans':'active','eleonore':'inactive','a':'active'}\n",
        "\n",
        "for user,status in users.copy().items():\n",
        "#items()는 딕셔너리의 키,값 쌍을 얻는 것\n",
        "#딕셔너리의 값들을 user와 status에 한 쌍씩 넣으면서 반복\n",
        "  if status=='inactive':\n",
        "    del users[user] #해당 조건에 맞는 index를 삭제\n",
        "\n",
        "active_users={}\n",
        "\n",
        "for user,status in users.items():\n",
        "  if status=='active':\n",
        "    active_users[user]=status #active인 것만 저장\n",
        "\n",
        "print(users)\n",
        "print(active_users)\n"
      ],
      "metadata": {
        "colab": {
          "base_uri": "https://localhost:8080/"
        },
        "id": "OLICJU2K8czh",
        "outputId": "928cdc51-8a99-4d3b-eee9-7f4037dc2f51"
      },
      "execution_count": 18,
      "outputs": [
        {
          "output_type": "stream",
          "name": "stdout",
          "text": [
            "{'hans': 'active', 'a': 'active'}\n",
            "{'hans': 'active', 'a': 'active'}\n"
          ]
        }
      ]
    },
    {
      "cell_type": "markdown",
      "source": [
        "## range() 함수\n",
        "\n",
        "*숫자들을 시퀀스로 이터레이트 하기 수열을 만든다\n",
        "\n",
        "* range(시작 숫자, 마지막 숫자, 증가분)\n",
        "시작숫자부터 마지막 숫자-1 까지 증가하면서"
      ],
      "metadata": {
        "id": "hWO0vOAn-Biw"
      }
    },
    {
      "cell_type": "code",
      "source": [
        "for i in range(5): #0~5-1까지\n",
        "  print(i)\n",
        "\n",
        "print(list(range(5,10))) #5 ~`0-1까지\n",
        "print(list(range(0,10,3)))\n",
        "print(list(range(-10,-100,-30)))"
      ],
      "metadata": {
        "colab": {
          "base_uri": "https://localhost:8080/"
        },
        "id": "5yau9f-k-Jtu",
        "outputId": "3ce8be4e-5a58-4a39-b007-ea6762688203"
      },
      "execution_count": 19,
      "outputs": [
        {
          "output_type": "stream",
          "name": "stdout",
          "text": [
            "0\n",
            "1\n",
            "2\n",
            "3\n",
            "4\n",
            "[5, 6, 7, 8, 9]\n",
            "[0, 3, 6, 9]\n",
            "[-10, -40, -70]\n"
          ]
        }
      ]
    },
    {
      "cell_type": "code",
      "source": [
        "a=['Mary','had','a','little','lamb']\n",
        "for i in range(len(a)):#len()을 통해 리스트의 요소 개수 만큼 반복하면서 index도 출력\n",
        "  print(i,a[i])"
      ],
      "metadata": {
        "colab": {
          "base_uri": "https://localhost:8080/"
        },
        "id": "CYmSQgkr-5X7",
        "outputId": "7f351759-f68a-46f5-8f5b-d25ed0f6bf9a"
      },
      "execution_count": 20,
      "outputs": [
        {
          "output_type": "stream",
          "name": "stdout",
          "text": [
            "0 Mary\n",
            "1 had\n",
            "2 a\n",
            "3 little\n",
            "4 lamb\n"
          ]
        }
      ]
    },
    {
      "cell_type": "markdown",
      "source": [
        "* range()의 return은 리스트가 아니다.\n",
        "*이터레이트할 때 원하는 새퀀스 항목을 순서대로 돌려주는 객체=>이터러블"
      ],
      "metadata": {
        "id": "UyoCHAK1_nIn"
      }
    },
    {
      "cell_type": "markdown",
      "source": [
        "## 루프와 break와 continue , else\n",
        "\n",
        "*루프의 else절 만약 for문이 소진되거나 while문이 조건이 거짓이 되어 종료될 때 실행\n",
        "\n",
        "***break문으로 종료되면 실행되지 않음***"
      ],
      "metadata": {
        "id": "5584QxAq_747"
      }
    },
    {
      "cell_type": "code",
      "source": [
        "#break : 루프를 빠져나감\n",
        "\n",
        "#2에서 9까지의 숫자중 prime number인지와 어떤 수의 곱으로 이루어져 있는지 \n",
        "for n in range(2,10):\n",
        "  for x in range(2,n):# n보다 작은 수들을 검사 (1)\n",
        "    if n%x==0: #n이 n보다 작은 수로 나누어떨어지면\n",
        "      print(n,'equals',x,'*',n//x) #prime number가 아니고, 어떤 수의 곱으로 이루어져있는지 출력\n",
        "      break # (1)으로 이동\n",
        "  else: #*****for 루프의 else절 만약 for문이 소진되거나 while문이 조건이 거짓이 되어 종료될 때 실행\n",
        "    print(n,'is a prime number')\n"
      ],
      "metadata": {
        "id": "Ze3-6eVN_0IK"
      },
      "execution_count": null,
      "outputs": []
    },
    {
      "cell_type": "code",
      "source": [
        "#continue : 루프를 다음 이터레이션에서 계속하게 만듦. 밑의 명령문을 실행하지 않고 for문 안에서..\n",
        "for num in range(2,10):\n",
        "  if num%2==0:\n",
        "    print('found an even number',num)\n",
        "    continue\n",
        "  print('found an odd number',num)"
      ],
      "metadata": {
        "id": "1jy0uUrZKvSD"
      },
      "execution_count": null,
      "outputs": []
    },
    {
      "cell_type": "markdown",
      "source": [
        "## pass문"
      ],
      "metadata": {
        "id": "f0S7sB9OLcXe"
      }
    },
    {
      "cell_type": "code",
      "source": [
        "#pass문 : 아무것도 하지 않음. 문법적으로 문장이 필요하지만 할 일이 없을 때\n",
        "#while True:\n",
        "#  pass\n",
        "\n",
        "#최소한의 클래스를 만들때\n",
        "#class myemptyClass:\n",
        "#  pass\n",
        "\n",
        "#새 코드를 작성할 때 함수나 조건부의 바디를 채우는 것 -> 무시한다\n",
        "#def initlog(*args):\n",
        "#  pass"
      ],
      "metadata": {
        "id": "kP168cApLety"
      },
      "execution_count": null,
      "outputs": []
    },
    {
      "cell_type": "markdown",
      "source": [
        "## match statements\n",
        "\n",
        "*표현식을 취하고 그 값을 하나이상의 케이스 블록으로 제공된 연속 패턴과 비교(switch)\n",
        "\n",
        "* 단 값에서 요소를 변수로 추출할 수 있다.\n",
        "\n",
        "*python은 switch문이 없다\n",
        "\n",
        "*match는 3.10에 새로 생긴 문법으로 현재 코랩에서의 버전보다 높기때문에 실행 불가능하다.\n",
        "\n",
        "*변수 이름대신 _ 는 와일드카드 역할을 하며 절대 일치하지 않는다\n",
        "\n",
        "* | 를 통해 여러 변수를 넣을 수 있다(or 역할)"
      ],
      "metadata": {
        "id": "EaLAVUsHMO7K"
      }
    },
    {
      "cell_type": "code",
      "source": [
        "import sys\n",
        "print(sys.version)\n",
        "\n",
        "# class Point:\n",
        "#   x:int\n",
        "#   y:int\n",
        "\n",
        "# def where_is(point):\n",
        "#   match point:\n",
        "#     case Point(x=0, y=0):\n",
        "#       print(\"Origin\")\n",
        "#     case Point(x=0, y=y):\n",
        "#       print(f\"Y={y}\")\n",
        "#     case Point(x=x, y=0):\n",
        "#       print(f\"X={x}\")\n",
        "#     case Point():\n",
        "#       print(\"Somewhere else\")\n",
        "#     case _:   #변수 이름대신 _ 는 와일드카드 역할을 하며 절대 일치하지 않는다\n",
        "#       print(\"Not a point\")\n",
        "# Point(1, var)\n",
        "# Point(1, y=var)\n",
        "# Point(x=1, y=var)\n",
        "# Point(y=var, x=1)"
      ],
      "metadata": {
        "id": "tFSqcnTmMyK_"
      },
      "execution_count": null,
      "outputs": []
    },
    {
      "cell_type": "markdown",
      "source": [
        "#### 다시"
      ],
      "metadata": {
        "id": "Cjw48t1oXU0x"
      }
    },
    {
      "cell_type": "markdown",
      "source": [
        "### 함수 정의하기\n",
        "\n",
        "``` \n",
        "def 함수이름(매개변수...):\n",
        "  \"\"\" 독스트링(문자열 리터럴)\"\"\" #인쇄된 설명서를 자동생성,대화형 코드열람..?\n",
        "\n",
        "  #반드시 들여쓰기\n",
        "```\n",
        "\n",
        "*함수의 실행은 함수의 지역 변수들을 위한 새 심볼 테이블을 만듭니다. 좀 더 구체적으로, 함수에서의 모든 변수 대입들은 값을 지역 심볼 테이블에 저장합니다; 반면에 변수 참조는 먼저 지역 심볼 테이블을 본 다음, 전역 심볼 테이블을 본 후, 마지막으로 내장 이름들의 테이블을 살핍니다. 그래서, 참조될 수는 있다 하더라도, 전역 변수들과 둘러싸는 함수의 변수들은 함수 내에서 직접 값이 대입될 수 없습니다 (전역 변수를 global 문으로 명시하거나 둘러싸는 함수의 변수를 nonlocal 문으로 명시하지 않는 이상).\n",
        "\n",
        "함수 호출로 전달되는 실제 매개변수들 (인자들)은 호출될 때 호출되는 함수의 지역 심볼 테이블에 만들어집니다; 그래서 인자들은 값에 의한 호출(call by value)로 전달됩니다 (값은 항상 객체의 값이 아니라 객체 참조입니다). 1 함수가 다른 함수를 호출할 때, 또는 자신을 재귀적으로 호출할 때, 그 호출을 위한 새 지역 심볼 테이블이 만들어집니다.\n",
        "\n",
        "함수 정의는 함수 이름을 현재 심볼 테이블의 함수 객체와 연결합니다. 인터프리터는 해당 이름이 가리키는 객체를 사용자 정의 함수로 인식합니다. 다른 이름은 같은 함수 객체를 가리킬 수 있으며 함수에 액세스하는 데 사용될 수도 있습니다:"
      ],
      "metadata": {
        "id": "Hshq-8h2XX-K"
      }
    },
    {
      "cell_type": "code",
      "source": [
        "#피보나치 함수\n",
        "\n",
        "def fib(n):#return값이 없는 피보나치 출력 함수\n",
        "  a,b=0,1\n",
        "  while a<n:\n",
        "    print(a,end=' ')\n",
        "    a,b = b,a+b\n",
        "  print()\n",
        "\n",
        "def fib2(n):#피보나치 숫자 리스트를 return 하는 함수\n",
        "  a,b=0,1\n",
        "  result=[]\n",
        "  while a<n:\n",
        "    result.append(a)\n",
        "    a,b = b,a+b\n",
        "  return result\n",
        "\n",
        "fib(2000)\n",
        "print(fib(0)) # 함수가 값을 return하지 않아도 None값을 return 하기때문에 프로시저가 아니라 함수이다\n",
        "print(fib2(100))\n"
      ],
      "metadata": {
        "id": "xPqGiaVBVSel"
      },
      "execution_count": null,
      "outputs": []
    },
    {
      "cell_type": "markdown",
      "source": [
        "##함수 정의 더보기"
      ],
      "metadata": {
        "id": "AtTTws-A5bd5"
      }
    },
    {
      "cell_type": "markdown",
      "source": [
        "###기본 인자값\n",
        "*형식은 하나나 그 이상의 인자들의 기본값을 지정하는 것"
      ],
      "metadata": {
        "id": "yRS7HTjE5llJ"
      }
    },
    {
      "cell_type": "code",
      "source": [
        "def ask_ok(prompt, retries=4,reminder=\"please try again\"):\n",
        "  while True:\n",
        "    ok=input(prompt)#입력받고\n",
        "    if ok in ('y','ye','yes'):#yes인지\n",
        "      return True\n",
        "    if ok in ('n','no','nope'):#no인지\n",
        "      return False\n",
        "    retries=retries-1#만약 둘다 아니면 retries-1을 하고 재질문\n",
        "    if retries<0:#만약 retries<0 이 되면\n",
        "      raise ValueError('invalid user response')#error!\n",
        "    print(reminder) #재질문하기\n",
        "ask_ok('정말 끝내길 원하세요?')\n",
        "ask_ok('파일을 덮어써도 좋습니까?', 2)\n",
        "ask_ok('파일을 덮어써도 좋습니까?', 2, '자, 예나 아니요로만 답하세요!')"
      ],
      "metadata": {
        "id": "UQpETaJ0UcaB"
      },
      "execution_count": null,
      "outputs": []
    },
    {
      "cell_type": "code",
      "source": [
        "i=5 #애가 기본값\n",
        "def f(arg=i):\n",
        "  print(arg)\n",
        "\n",
        "i=6\n",
        "f()\n",
        "#기본값은 함수 정의 시점에 정의되고 있는 스코프에서 구해집니다,\n",
        "\n",
        "#중요한 주의사항: 기본값은 오직 한 번만 값이 구해집니다. \n",
        "#이것은 기본값이 리스트나 딕셔너리나 대부분 클래스의 인스턴스와 같은 가변 객체일 때 차이를 만듭니다.\n",
        "\n",
        "def f(a,L=[]):#기본값 공유=> 전달된 L에서 인자 누적\n",
        "  L.append(a)\n",
        "  return L\n",
        "print(f(1))\n",
        "print(f(2))\n",
        "print(f(3))\n",
        "\n",
        "def f2(a,L=None):#기본값 공유 없도록\n",
        "  if L is None:\n",
        "    L=[]#초기화\n",
        "  L.append(a)\n",
        "  return L\n",
        "print(f2(1))\n",
        "print(f2(2))\n",
        "print(f2(3))"
      ],
      "metadata": {
        "id": "Y6BO5ONI8GJm"
      },
      "execution_count": null,
      "outputs": []
    },
    {
      "cell_type": "markdown",
      "source": [
        "### 키워드 인자\n",
        "```\n",
        "kwarg = value\n",
        "```\n",
        "***함수 호출에서 keyword인자는(ex, state='a') 위치인자(keyword없이 위치로만 파악)뒤에 나와야 한다.\n",
        "\n",
        "***한 인자에 두 개 이상의 값을 줄 수 없다"
      ],
      "metadata": {
        "id": "Z7pTQh4V9dAI"
      }
    },
    {
      "cell_type": "code",
      "source": [
        "def parrot(voltage,state='a stiff',action='voom',type='Norewegian'):\n",
        "  print('votage = ',voltage,'/state = ',state,'/action = ',action,'/type = ',type)\n",
        "#필수인자(voltage) 1개와 3개의 선택인자(kwarg=value 형식)\n",
        "\n",
        "parrot(1000)#voltage=1000이 되고 나머지는 default값\n",
        "parrot(voltage=1000)\n",
        "parrot(voltage=10000,action='vooooom')#voltage=10000 이고 action만 voooom으로 \n",
        "parrot(action='vooooom',voltage=10000)#순서 상관 없음\n",
        "parrot('a million','bereft of life','jump')#인자들의 순서대로 들어감\n",
        "parrot('a thousand',state='pushing up dishies')\n",
        "\n",
        "#parrot()#필수인자가 없기때문에 오류\n",
        "#parrot(voltage=5,'dead')\n",
        "#***********keyword로 들어간 인자 뒤에 non-keyword불가***************\n",
        "#parrot(110,voltage=220)#처음 110을 voltage에 넣었는데 뒤에서 또 변경해서 오류\n",
        "#parrot(actior='s')#인자 이름이 잘못됨(모르는 인자 이름)"
      ],
      "metadata": {
        "id": "_zkIzziA9lq4"
      },
      "execution_count": null,
      "outputs": []
    },
    {
      "cell_type": "code",
      "source": [
        "# **name형식의 매개변수 => 모든 키워드 인자들을 담은 딕셔너리를 받음\n",
        "\n",
        "def chooseshop(kind,*argument,**keywords):\n",
        "  print('kind=',kind)#a\n",
        "  print('-----------------------')\n",
        "  for arg in argument:\n",
        "    print(arg)# b,c(keyword가 주어지지 않아서 *argument로 배열로 들어감)\n",
        "  print(\"=======================\")\n",
        "  for kw in keywords:  #shopkeeper='d',client='e',sketch='f'\n",
        "    print(kw,':',keywords[kw])  #kw:keyword[kw]형식으로 출력 (ex, shopkeeper : d)\n",
        "\n",
        "chooseshop('a','b','c',shopkeeper='d',client='e',sketch='f')\n",
        "#         kind ,arg,arg, keyword에 dictionary로 입력됨(keyword= ~ 형식)(순서 유지)"
      ],
      "metadata": {
        "id": "USEoXYzPOpE8"
      },
      "execution_count": null,
      "outputs": []
    },
    {
      "cell_type": "markdown",
      "source": [
        "### 특수 매개 변수\n",
        "\n",
        "*인자는 위치나 키워드로 함수에 전달될 수 있다\n",
        "\n",
        "*개발자가 항목이 위치, 위치나 키워드, 키워드로 전달되는지 판단하기 위해 인자 전달 방법 제한"
      ],
      "metadata": {
        "id": "5_xQi06wTG3i"
      }
    },
    {
      "cell_type": "markdown",
      "source": [
        "##### (1)위치-키워드 인자\n",
        "*함수 정의에 /와 *가 없으면 위치나 키워드 둘다 가능\n",
        "\n",
        "\n",
        "##### (2)위치 전용 매개변수\n",
        "*특정 매개변수를 위치 전용으로=>키워드 불가\n",
        "```\n",
        "(위치전용 매개변수 , /,  위치or 키워드...)\n",
        "```\n",
        "/ 를 위치전용 매개변수 ***뒤에***\n",
        "\n",
        "=>매개변수 이름을 사용자가 사용할 수 없도록, 이름의 의미가 없고,순서를 강제, 임의의 키워드를 받아들일 때(충돌방지)\n",
        "##### (3)키워드 전용 인자\n",
        "```\n",
        "(..., *, 키워드전용 매개변수)\n",
        "```\n",
        " '*' **  를 키워드전용 매개변수 **앞에**\n",
        " \n",
        " ** 이후 인자들 또한 키워드 전용으로 사용\n",
        "\n",
        " =>이름을 명시적,위치에 의존 못하도록"
      ],
      "metadata": {
        "id": "Hz4nhAT8Urtt"
      }
    },
    {
      "cell_type": "code",
      "source": [
        "#기본\n",
        "def standard_arg(arg):\n",
        "  print(arg)\n",
        "\n",
        "#위치전용\n",
        "# def pos_only_arg(arg, /):\n",
        "#   print(arg)\n",
        "\n",
        "#키워드 전용\n",
        "def kwd_only_arg(*,arg):\n",
        "  print(arg)\n",
        "\n",
        "#복합 - 첫번째 인자는 위치전용, 두번째는 기본,세번째와 네번째는 키워드\n",
        "# def combined_arg(pos_only,/,standard,*,keyword,keyword2):\n",
        "#   print(pos_only,keyword,standard)\n",
        "\n",
        "def kwd_only_arg2(*,arg,arg2):#*이후의 인자들은 모두 키워드이다\n",
        "  print(arg)\n",
        "\n",
        "standard_arg(2)\n",
        "standard_arg(arg=2)\n",
        "\n",
        "#pos_only_arg(3)\n",
        "#pos_only_arg(arg=3)\n",
        "\n",
        "#kwd_only_arg(4)\n",
        "kwd_only_arg(arg=4)\n",
        "\n",
        "#kwd_only_arg2(arg=4,3)#두번째 인자도 키워드로 해야한다.\n",
        "\n",
        "#combined_arg('pos' ,keyword='key' ,5)\n",
        "#combined_arg('pos' ,keyword='key' ,5)\n",
        "#combined_arg('pos' ,keyword='key' ,5)\n",
        "\n",
        "# 위치 전용 매개변수 / 의 경우 python version 3.8이상이어야 가능하다."
      ],
      "metadata": {
        "id": "wuNjNiXUTJZh"
      },
      "execution_count": null,
      "outputs": []
    },
    {
      "cell_type": "code",
      "source": [
        "#위치인자 name과 name을 키로 가지는 **kwds사이의 충돌\n",
        "\n",
        "def foo(name,**kwds):\n",
        "  return 'name' in kwds\n",
        "\n",
        "#foo(1,**{'name':2}) # 'name'키워드는 첫번째 인자와 같은 키워드라서 충돌된다(한 변수에 여러번 값 저장)\n",
        "\n",
        "#=> 첫번째 인자(name인자)를 키워드를 사용못하도록 위치 전용 인자로 만들어서 충돌 방지\n",
        "\n",
        "# def foo2(name,/,**kwds):\n",
        "#   return 'name' in kwds\n",
        "#foo2(1,**{'name':2})\n",
        "#단 version문제로 실행은 불가능"
      ],
      "metadata": {
        "id": "EilNIpDhacHN"
      },
      "execution_count": null,
      "outputs": []
    },
    {
      "cell_type": "markdown",
      "source": [
        "#####(5)임의의 인자 목록\n",
        "*함수가 임의의 개수 인자로 호출될 수 있도록 지정\n",
        "\n",
        "*튜플로 묶임\n",
        "\n",
        "*매개변수 목록 마지막에 와서 입력된 남은 인자들을 모음\n",
        "이후에 등장하는 매개변수는 키워드 전용 인자이다. "
      ],
      "metadata": {
        "id": "WWOjO_HiiKFB"
      }
    },
    {
      "cell_type": "code",
      "source": [
        "def write_multiple_item(file,separator,*args):#file과 separator이후 인자들은 모두 args에 저장\n",
        "  print(args)\n",
        "\n",
        "write_multiple_item('a','b','c',1,2,3)#a,b이후 c,1,2,3은 args에 저장된다\n",
        "\n",
        "def concat(*args,sep='/'):\n",
        "  return sep.join(args)\n",
        "\n",
        "print(concat('a','b','c'))\n",
        "print(concat('a','b','d',sep=\"~\"))#키워드 전용 인자 사용"
      ],
      "metadata": {
        "id": "UIV8uNBwiUn5"
      },
      "execution_count": null,
      "outputs": []
    },
    {
      "cell_type": "markdown",
      "source": [
        "#####(6) 인자목록 언 패킹\n",
        "*인자들이 이미 리스트나 튜플에 있지만 \n",
        "분리된 인자들을 요구하는 함수 호출을 위해 언패킹\n"
      ],
      "metadata": {
        "id": "WrHACwYXj9ZH"
      }
    },
    {
      "cell_type": "code",
      "source": [
        "print(list(range(3,6)))#인자에 직접 입력한 것과\n",
        "args=[3,6]\n",
        "print(list(range(*args)))#인자에 미리 선언한 리스트(*를 사용)를 넣는것과 같은 결과"
      ],
      "metadata": {
        "id": "TrcszlEfkX1L"
      },
      "execution_count": null,
      "outputs": []
    },
    {
      "cell_type": "code",
      "source": [
        "d = {\"voltage\": \"four million\", \"state\": \"bleedin' demised\", \"action\": \"VOOM\"}\n",
        "parrot(**d)#parrot은 위에서 정의한 함수\n",
        "#딕셔너리도 **를 사용해서 키워드 인자 전달 가능"
      ],
      "metadata": {
        "id": "Fa5bfwBgksl6"
      },
      "execution_count": null,
      "outputs": []
    },
    {
      "cell_type": "markdown",
      "source": [
        "#####(7)람다 포현식\n",
        "*lambda키워드를 이용해서 작고 이름없는 함수 만들기\n",
        "\n",
        "*함수 객체가 있어야 하는 곳에 사용 가능\n",
        "\n",
        "*문법적으로 하나의 표현식으로 제한\n",
        "\n",
        "*둘러싸인 스코프의 변수 참조 가능"
      ],
      "metadata": {
        "id": "lItxMQDekW9R"
      }
    },
    {
      "cell_type": "code",
      "source": [
        "def make_incrementor(n):\n",
        "  return lambda x:x+n\n",
        "f=make_incrementor(42)#f에 x:x+42인 함수 return\n",
        "print(f(3))# f함수에 x=3으로 계산한 결과를 출력 "
      ],
      "metadata": {
        "id": "pRtXP7coliEE"
      },
      "execution_count": null,
      "outputs": []
    },
    {
      "cell_type": "code",
      "source": [
        "pairs = [(1, 'one'), (2, 'two'), (3, 'three'), (4, 'four')]\n",
        "pairs.sort(key=lambda pair:pair[1])#함수를 돌려주기 위한 람다표현식\n",
        "#https://kingofbackend.tistory.com/98\n",
        "# 1번 index(ex, four,one...)를 기준으로 정렬\n",
        "#key인자에 함수를 넘겨주면 해당 함수의 반환값을 비교하여 정렬\n",
        "pairs"
      ],
      "metadata": {
        "id": "QJe7uY0Gl4rx"
      },
      "execution_count": null,
      "outputs": []
    },
    {
      "cell_type": "markdown",
      "source": [
        "#####(8)도큐멘테이션 문자열(독문자열)\n",
        "*첫줄:객체의 목절을 짧고 간결 요약, 이름,형 언급x\n",
        "\n",
        "*두번째줄 : 비우기\n",
        "\n",
        "*이후:객체의 효출규약,부작용...\n",
        "\n",
        "*\n",
        "\"\"\" ... \"\"\"\n",
        "\n",
        "*![image.png](data:image/png;base64,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)\n"
      ],
      "metadata": {
        "id": "yyUsSqDDm6xE"
      }
    },
    {
      "cell_type": "markdown",
      "source": [
        "#####(9)함수 어노테이션\n",
        "\n",
        "사용자 정의 함수가 사용하는형들에 대한 완전히 선택적인 메타데이터 정보\n",
        "\n",
        "__annotations__ 어트리뷰트에 딕셔너리에 저장되고 다른 부분 영향 x\n",
        "\n"
      ],
      "metadata": {
        "id": "XL4XoUS3nlZz"
      }
    },
    {
      "cell_type": "code",
      "source": [
        "#매개변수 어노테이션과 반환값 어노테이션\n",
        "def f(ham: str,eggs:str='eggs')->str:\n",
        "#    ( 매개변수 이름 : ...    )-> 어노테이션 :\n",
        "  print('annotations:',f.__annotations__)\n",
        "  print(ham,eggs)\n",
        "  return ham+','+eggs\n",
        "f('spam')"
      ],
      "metadata": {
        "id": "ESMKA0EnoK_4"
      },
      "execution_count": null,
      "outputs": []
    },
    {
      "cell_type": "markdown",
      "source": [
        "#5.자료구조"
      ],
      "metadata": {
        "id": "UtXzRPM9pBQP"
      }
    },
    {
      "cell_type": "markdown",
      "source": [
        "#### 리스트 더 보기\n",
        "\n",
        "(1) append(X) : 리스트 끝에 항목 더하기 a[len(a):]=x\n",
        "\n",
        "(2) extend(literable) : 리스트 끝에 이터러블의 모든 항목을 덧붙여서 확장 a[len(a):]=literable\n",
        "\n",
        "(3) insert(i,x):주어진 위치에 항목 삽입\n",
        "\n",
        "(4) remove(x):값이 x 와 같은 첫 항목 삭제 없으면 valueError\n",
        "\n",
        "(5) pop(*i*) : 주어진위치 항목 삭제후 return, i가 없으면 마자막 항목\n",
        "\n",
        "(6) clear() : 모든 항목 삭제 del a[:]\n",
        "\n",
        "(7) index(x,*start,end*) :값이 x와 같은 첫번째 것의 0부터 시작하는 인덱스 return 없으면 valueError\n",
        ",start~end:검색 제한 단 return은 전체기준\n",
        "\n",
        "(8) count(x) : x등장 횟수 return\n",
        "\n",
        "(9) sort(*,key=None,reverse=False) 정렬\n",
        "\n",
        "(10) reserve() :제자리에서 뒤집기\n",
        "\n",
        "(11) copy(): 얕은 사본 return a[:]\n",
        "\n",
        "***\n",
        "리스트를 수정하지만 반환값은 출력되지 않는다=>기본으로 None을 돌려준다(파이썬 가변 자료 구조)\n",
        "\n",
        "모든 데이터를 정렬하거나 비교할 수 없다"
      ],
      "metadata": {
        "id": "Vi_owXJtpE-N"
      }
    },
    {
      "cell_type": "code",
      "source": [
        "fruits = ['orange', 'apple', 'pear', 'banana', 'kiwi', 'apple', 'banana']\n",
        "print(fruits.count('apple')) #(8)apple의 등장횟수 \n",
        "print(fruits.index('banana')) #(7)banana의 첫 index\n",
        "print(fruits.index('banana'),4) #(7)banana의 4에서 부터 시작했을 때 첫index\n",
        "fruits.reverse() #(10)뒤집기\n",
        "print(fruits)\n",
        "fruits.append('grape')#(1)grape추가\n",
        "print(fruits)\n",
        "fruits.sort()#(9)정렬\n",
        "print(fruits)\n",
        "fruits.pop()#(5)마지막 항목 삭제 후 출력\n",
        "print(fruits)"
      ],
      "metadata": {
        "id": "UHh4Of7BOZZ0"
      },
      "execution_count": null,
      "outputs": []
    },
    {
      "cell_type": "markdown",
      "source": [
        "##### 리스트를 스택으로 사용\n",
        "\n",
        "last in first out\n",
        "-> insert:append() , pop : pop()"
      ],
      "metadata": {
        "id": "ZEX6Oz6kTZlu"
      }
    },
    {
      "cell_type": "code",
      "source": [
        "stack=[3,4,5]\n",
        "stack.append(6)\n",
        "stack.append(7)\n",
        "print(stack)\n",
        "print(stack.pop()) #가장 마지막에 insert된 7이 나온다\n",
        "print(stack)\n",
        "print(stack.pop()) #남은 것 중 마지막에 insert된 6이 나온다\n",
        "print(stack)"
      ],
      "metadata": {
        "id": "ef82vkgNTlsT"
      },
      "execution_count": null,
      "outputs": []
    },
    {
      "cell_type": "markdown",
      "source": [
        "##### 리스트를 큐로 사용\n",
        "first in first out\n",
        "\n",
        "* 리스트의 머리에 덧붙이거나 꺼내는 것은 느리디(꺼내고 한칸씩 앞으로 이동해야 하기 때문)\n",
        "\n",
        "=>양 끝에서 덧붙이기와 꺼내기가 빠른 collections.deque를 사용하자\n",
        "\n"
      ],
      "metadata": {
        "id": "XsqragjRTk8n"
      }
    },
    {
      "cell_type": "code",
      "source": [
        "from collections import deque\n",
        "queue = deque([\"Eric\", \"John\", \"Michael\"])\n",
        "queue.append(\"Terry\")\n",
        "queue.append(\"Graham\")\n",
        "print(queue)\n",
        "print(queue.popleft())# 리스트의 왼쪽의 값을 pop\n",
        "print(queue)\n",
        "print(queue.popleft())#리스트의 왼쪽의 값을 pop\n",
        "print(queue)"
      ],
      "metadata": {
        "id": "i76pgBecUuNE"
      },
      "execution_count": null,
      "outputs": []
    },
    {
      "cell_type": "markdown",
      "source": [
        "##### 리스트 컴프리헨션\n",
        ": 리스트를 만드는 간결한 방법\n"
      ],
      "metadata": {
        "id": "rt-wC0kfVLXZ"
      }
    },
    {
      "cell_type": "code",
      "source": [
        "#제곱수의 리스트 만들기-기본\n",
        "squares=[]\n",
        "for x in range(10):#0에서 9까지\n",
        "  squares.append(x**2)#제곱수를 리스트에 추가해나감\n",
        "print(squares)\n",
        "\n",
        "# =>이러한 경우 x 변수가 루프 종료 후에도 남아있다\n",
        "\n",
        "#간단하고 위의 단점 없이 리스트 만들기-2번째 방법-map 사용\n",
        "squares_2=list(map(lambda x : x**2 , range(10)))\n",
        "#        형변환(map(적용시킬 함수  , 적용할 값)) => 적용할 값에 적용시킬 함수를 적용시켜서 반환하고 \n",
        "#                                                   리스트로 형변환\n",
        "print(squares_2)\n",
        "#https://blockdmask.tistory.com/531\n",
        "\n",
        "#3번째 방법-리스트의 컴프리 헨션\n",
        "squares_3=[x**2 for x in range(10)]#반복문을 통해 들어온 x에 x**2라는 것을 적용시켜 append\n",
        "print(squares_3)"
      ],
      "metadata": {
        "id": "z-PXqywOVVLq"
      },
      "execution_count": null,
      "outputs": []
    },
    {
      "cell_type": "code",
      "source": [
        "#리스트 컴프리헨션 : 표현식과 그 뒤를 따르는 for 절 ,if절... return 은 리스트\n",
        "print([(x,y) for x in [1,2,3] for y in [3,4,5] if x!=y])\n",
        "# x가 1,2,3이고 y가 3,4,5이면서 x와 y가 같지않은 리스트를 출력\n",
        "\n",
        "#기본\n",
        "combs=[]\n",
        "for x in [1,2,3]:\n",
        "  for y in [3,4,5]:\n",
        "    if x!=y:\n",
        "      combs.append((x,y))\n",
        "print(combs)\n",
        "# 두 결과가 같다"
      ],
      "metadata": {
        "id": "ZgAYU6hXXYSe"
      },
      "execution_count": null,
      "outputs": []
    },
    {
      "cell_type": "code",
      "source": [
        "vec = [-4, -2, 0, 2, 4]\n",
        "print([x*2 for x in vec])#vec의 요소에 2를 곱한 리스트\n",
        "print([x for x in vec if x>=0])#vec의 요소중 0이상\n",
        "print([abs(x) for x in vec])#vec 의 요소들을 abs()한 리스트(절댓값)\n",
        "\n",
        "freshfruit = ['  banana', '  loganberry ', 'passion fruit  ']\n",
        "print([weapon.strip() for weapon in freshfruit])#위 리스트의 요소들에서 공백문자를 제거한 리스트\n",
        "print([(x,x**2) for x in range(6)])#0에서 5까지의 숫자와 그 숫자의 제곱의 쌍으로 이루어진 리스트\n",
        "#print([x,x**2 for x in range(6)])#tuple의 쌍으로 되어있지 않기 때문에 에러\n",
        "\n",
        "vec = [[1,2,3], [4,5,6], [7,8,9]]\n",
        "print([num for elem in vec for num in elem])\n",
        "# for elem in vec을 해서 각 리스트([1,2,3]...)들을 빼고, for num in elem으로 뽑아낸 리스트[1,2,3]\n",
        "# 에서 num을 뽑아서 1 ,2 ,3 세개의 요소가 나온다.이들을 리스트로 만든다\n",
        "# => 리스트 안의 리스트의 요소들을 다 빼서 한 리스트로 만들기"
      ],
      "metadata": {
        "id": "DqcIzK71Bxne"
      },
      "execution_count": null,
      "outputs": []
    },
    {
      "cell_type": "code",
      "source": [
        "# 리스트 컴프리헨션 복잡한 표션식 , 중첩 함수\n",
        "from math import pi\n",
        "print([str(round(pi,i))for i in range(1,6)])#1에서 5까지의 i 를 반지름으로 하는 ...문자열로 형변환\n"
      ],
      "metadata": {
        "id": "VZc0niMNDr2p"
      },
      "execution_count": null,
      "outputs": []
    },
    {
      "cell_type": "markdown",
      "source": [
        "##### 중첩된 리스트 컴프리헨션\n",
        "* 리스트 컴프리헨션의 첫 표현식에 다른 리스트의 컴프리헨션"
      ],
      "metadata": {
        "id": "RXgmh_vsVU_K"
      }
    },
    {
      "cell_type": "code",
      "source": [
        "# 행과 열을 전치\n",
        "matrix = [\n",
        "     [1, 2, 3, 4],\n",
        "     [5, 6, 7, 8],\n",
        "     [9, 10, 11, 12],\n",
        "]\n",
        "print([row[0] for row in matrix])\n",
        "\n",
        "matrix2=[[row[i] for row in matrix] for i in range(4)]\n",
        "# 0에서 3까지의 숫자가 i로 대입되고,\n",
        "# for row in matrix로 matrix의 row를 하나씩 빼서 ([1,2,3,4]...)\n",
        "# [row[i] for row in matrix] 해당 row들 중에서 i번째 index들을 모아서 리스트로 만들고\n",
        "# 리스트안에 리스트를 넣는다\n",
        "print(matrix2)\n",
        "\n",
        "transposed = []\n",
        "for i in range(4):\n",
        "  transposed.append([row[i] for row in matrix])\n",
        "#[row[i] for row in matrix] 해당 row들 중에서 i번째 index들을 모아서 리스트로 만들고\n",
        "# transposed 리스트에 추가한다\n",
        "print(transposed)\n",
        "\n",
        "transposed2=[]\n",
        "for i in range(4):\n",
        "  transposed2_row = []#초기화\n",
        "  for row in matrix:\n",
        "    transposed2_row.append(row[i])#matrix에서 각 row의 i번째 index를 넣는다\n",
        "  print(transposed2_row)\n",
        "  transposed2.append(transposed2_row)#모은 요소들로 만든 리스트를 넣는다\n",
        "print(transposed2)\n",
        "\n",
        "print(list(zip(*matrix)))\n",
        "# zip()함수를 사용해서 할 수 있다\n",
        "# 순회가능한 객체를 인자로 받고 각 요소를 묶는?"
      ],
      "metadata": {
        "id": "H6Tu7eO3ENmV"
      },
      "execution_count": null,
      "outputs": []
    },
    {
      "cell_type": "markdown",
      "source": [
        "##### del 문\n",
        "*리스트에서 값 대신 인덱스로 삭제"
      ],
      "metadata": {
        "id": "lS6E4xJEJ3So"
      }
    },
    {
      "cell_type": "code",
      "source": [
        "a = [-1, 1, 66.25, 333, 333, 1234.5]\n",
        "del a[0]#0번 인덱스 삭제\n",
        "print(a)\n",
        "del a[2:4]#2에서 3인덱스 삭제\n",
        "print(a)\n",
        "del a[:]#모두 삭제\n",
        "print(a)\n",
        "a = [-1, 1, 66.25, 333, 333, 1234.5]\n",
        "del a\n",
        "#print(a)#변 자체를 삭제하였기 때문에 a자체가 없어져서 오류"
      ],
      "metadata": {
        "id": "tDsE88XNJ-sG"
      },
      "execution_count": null,
      "outputs": []
    },
    {
      "cell_type": "markdown",
      "source": [
        "##### 튜플과 시퀀스\n",
        "**튜플은 리스트와 달리 불변이다!**\n",
        "\n",
        "\n",
        "*튜플이 리스트처럼 보인다 하더라도, 이것들은 다른 상황에서 다른 목적으로 사용됩니다. 튜플은 불변 이고, 보통 이질적인 요소들의 시퀀스를 포함합니다. 요소들은 언 패킹 (이 섹션의 뒤에 나온다) 이나 인덱싱 (또는 네임드 튜플 의 경우는 어트리뷰트로도) 으로 액세스합니다. 리스트는 가변 이고, 요소들은 보통 등질 적이고 리스트에 대한 이터레이션으로 액세스 됩니다."
      ],
      "metadata": {
        "id": "p4_w4_ePJ97C"
      }
    },
    {
      "cell_type": "code",
      "source": [
        "# 튜플은 쉼표로 구분되는 여러개의 값으로 구성\n",
        "t = 12345, 54321, 'hello!'\n",
        "print(t[0])\n",
        "print(t)\n",
        "\n",
        "#출력되는 tuple은 항상 괄호로 둘러싸임=> 튜플이 중첩되어도 보기 좋게\n",
        "u= t,(1,2,3,4,5) #중첩 될 때 괄호로 둘러싼다\n",
        "print(u)\n",
        "print(u[0])\n",
        "#t[0]=1111#튜플은 불변이기 때문에 오류!\n",
        "\n",
        "v=([1,2,3],[3,2,1])#선언할 때 괄호 사용 가능\n",
        "print(v)\n",
        "v1=[1,2,3],[3,2,1]\n",
        "print(v1)\n",
        "\n"
      ],
      "metadata": {
        "id": "ZX8JyCuOMwS_"
      },
      "execution_count": null,
      "outputs": []
    },
    {
      "cell_type": "code",
      "source": [
        "# 비어있는 튜플\n",
        "empty=()\n",
        "\n",
        "#하나의 항목을 갖는 튜플\n",
        "singleton = 'hello',\n",
        "# 일반 변수와 구분해야하므로 항목 뒤에 \"쉼표\"를 붙인다\n",
        "\n",
        "print(len(empty))\n",
        "print(len(singleton))\n",
        "print(singleton)\n",
        "\n",
        "#튜플 패킹\n",
        "t = 12345, 54321, 'hello!'\n",
        "\n",
        "#시퀀스 언패킹 : 좌변 우변에 같은 개수의 변수\n",
        "x,y,z = t # t의 처음값은 x에 두번째값은 y에 마지막 값은 z에 들어가고 양변 개수가 같다\n",
        "print(x,\"-\",y,\"-\",z)"
      ],
      "metadata": {
        "id": "nXxz38afQP0_"
      },
      "execution_count": null,
      "outputs": []
    },
    {
      "cell_type": "markdown",
      "source": [
        "##### 집합\n",
        "* 중복 없음\n",
        "* 수학연산 지원(합집합 |   ,차집합 -    ,교집합 &,   대칭 차집합 ^(합집합-교집합))\n",
        "* 중괄호 or set()함수 사용\n",
        "* 빈 집합은 set()만 가능"
      ],
      "metadata": {
        "id": "wmVlyapURh74"
      }
    },
    {
      "cell_type": "code",
      "source": [
        "# 중괄호로 생성\n",
        "basket = {'apple', 'orange', 'apple', 'pear', 'orange', 'banana'}\n",
        "#집합으로 생성되었으므로 중복되는 것들이 없어진다\n",
        "print(basket)#중복되는 값들을 뺀 것들만 출력됨\n",
        "\n",
        "print('orange' in basket)\n",
        "print('crabgrass' in basket)# 해당 요소가 집합에 있는지 true or false return\n",
        "\n",
        "# set()함수로 생성\n",
        "a= set('abracadabra')\n",
        "b=set('alacazam')\n",
        "\n",
        "print(a)# 문자를 하나씩 해서 중복 제거 후 생성됨\n",
        "print(b)\n",
        "\n",
        "#집합 연산\n",
        "print(a-b)#차집합\n",
        "print(a|b)#합집합\n",
        "print(a&b)#교집합\n",
        "print(a^b)#대칭차집합"
      ],
      "metadata": {
        "id": "QWShDYBXR5C0"
      },
      "execution_count": null,
      "outputs": []
    },
    {
      "cell_type": "code",
      "source": [
        "#집합 컴프리헨션\n",
        "a= {x for x in 'abracadabra' if x not in 'abc'}\n",
        "# 'abracadabra'에 있는 x중 a,b,c가 아닌 것+중복 제거\n",
        "print(a)"
      ],
      "metadata": {
        "id": "UbklXrSnTPoO"
      },
      "execution_count": null,
      "outputs": []
    },
    {
      "cell_type": "markdown",
      "source": [
        "##### 딕셔너리\n",
        "* key로 인덱싱, 모든 불변형 사용 가능\n",
        "* 가변객체를 포함하면 key로 사용 불가능(리스트 불가능)\n",
        "* 키가 중복되지 않는 키:값 쌍의 집합\n",
        "* 중괄호 {}: 빈 딕셔너리 생성\n",
        "* 연산: 값을 키와 함께 저장하고 주어진 키로 추출,\n",
        "* del=>키:값 쌍을 삭제\n",
        "* 키는 중복 불가 => 이미 있는 키로 저장하면 이전 값을 지우고 갱신한다\n",
        "* 존재하지않는 키 추출:에러\n",
        "* list(d) =>딕셔너리에 사용되는 키의 리스트를 삽입순서대로 return\n",
        "  * sorted(d)는 정렬해서 출력함\n",
        "* 키 존재여부 검사 : in 키워드\n"
      ],
      "metadata": {
        "id": "Nnhun23XTezW"
      }
    },
    {
      "cell_type": "code",
      "source": [
        "tel = {'jack': 4098, 'sape': 4139}#딕셔너리 생성\n",
        "tel['guido'] = 4127 # 딕셔너리에 키:값 추가\n",
        "print(tel)\n",
        "print(tel['jack'])# 키로 검색\n",
        "del tel['sape']# 키로 삭제\n",
        "\n",
        "tel['irv'] = 4127\n",
        "print(tel)\n",
        "\n",
        "print(list(tel))#키 값을 출력\n",
        "print(sorted(tel))#정렬된 키값 출력\n",
        "print('guido' in tel)# 키 존재여부 출력"
      ],
      "metadata": {
        "id": "11GQJHU8YJis"
      },
      "execution_count": null,
      "outputs": []
    },
    {
      "cell_type": "code",
      "source": [
        "# 키-값 쌍들의 시퀀스로 딕셔너리 구성\n",
        "d=dict([('sape', 4139), ('guido', 4127), ('jack', 4098)])\n",
        "print(d)\n",
        "\n",
        "#딕셔너리 컴프리헨션 => 각 요소들을 키로하고,키의 제곱을 값으로하는 딕셔너리\n",
        "d2={x: x**2 for x in (2, 4, 6)}\n",
        "print(d2)\n",
        "\n",
        "#키워드 인자를 키로 이용한 딕셔너리\n",
        "d3=dict(sape=4139, guido=4127, jack=4098)#키워드 인자를 키로하는 딕셔너리\n",
        "print(d3)"
      ],
      "metadata": {
        "id": "PyTxfV8KTWGu"
      },
      "execution_count": null,
      "outputs": []
    },
    {
      "cell_type": "markdown",
      "source": [
        "##### 루프 테크닉\n",
        "* 딕셔너리 : items()\n",
        "* 시퀀스 : enumerate()"
      ],
      "metadata": {
        "id": "5MhNRge1Z5C5"
      }
    },
    {
      "cell_type": "code",
      "source": [
        "# 딕셔너리 + 루프 items() 을 이용해 키와 값을 얻음\n",
        "knights = {'gallahad': 'the pure', 'robin': 'the brave'}\n",
        "for k,v in knights.items():\n",
        "  print(k,v)\n",
        "\n",
        "# 시퀀스 + 루프  enumerate()\n",
        "for i, v in enumerate(['tic', 'tac', 'toe']):\n",
        "  print(i,v)\n",
        "\n",
        "# 두개 이상의 시퀀스를 동시 루프 zip() 엔트리들의 쌍으로\n",
        "questions = ['name', 'quest', 'favorite color']\n",
        "answers = ['lancelot', 'the holy grail', 'blue']\n",
        "for q,a in zip(questions,answers):#두 시퀀스를 하나씩 해서 쌍으로 만듦\n",
        "  print('{0}-{1}'.format(q,a))\n",
        "\n",
        "#시퀀스를 거꾸로 루프  reversed()\n",
        "for i in reversed(range(1, 10, 2)):\n",
        "  print(i)\n",
        "\n",
        "basket = ['apple', 'orange', 'apple', 'pear', 'orange', 'banana']\n",
        "# 정렬해서 루프\n",
        "for i in sorted(basket):\n",
        "  print(i)\n",
        "print(\"==========\")\n",
        "\n",
        "# set()을 이용해 중복을 제외하고 정렬 루프\n",
        "for f in sorted(set(basket)):\n",
        "  print(f)\n",
        "\n",
        "# 루프를 돌면서 변경된 새 리스트 생성\n",
        "import math\n",
        "raw_data = [56.2, float('NaN'), 51.7, 55.3, 52.5, float('NaN'), 47.8]\n",
        "filtered_data = []\n",
        "for value in raw_data:\n",
        "  if not math.isnan(value):#nan이 아니면\n",
        "    filtered_data.append(value)#새 리스트에 추가\n",
        "print(filtered_data)\n"
      ],
      "metadata": {
        "id": "Hyhokv4aaAQR"
      },
      "execution_count": null,
      "outputs": []
    },
    {
      "cell_type": "markdown",
      "source": [
        "##### 조건 더보기\n",
        ": while과 if문에 조건에는 비교뿐 아니라 모든 연산자 가능\n",
        "* in , not in : 존재여부(비교\n",
        "* is , is not : 동일한지 (비교\n",
        "  * 모든 비교연산자는 숫자연산자보다 낮은 우선순위\n",
        "* 연쇄비교 : a<b==c : a가 b보다 작고, b 가 c와 같은지\n",
        "* 비교는 and , or, not을 통해 결합,부정할 수 있다.\n",
        "  * and,or는 단락회로 : 왼쪽->오른쪽, 결과결정시 중단, 일반값 사용시 return값은 마지막으로 값이 구해진 인자\n"
      ],
      "metadata": {
        "id": "g-5eZJ3QeYBN"
      }
    },
    {
      "cell_type": "code",
      "source": [
        "string1, string2, string3 = '', 'Trondheim', 'Hammer Dance'\n",
        "non_null = string1 or string2 or string3\n",
        "# non_null은 논리값이 아닌 일반값이고, string1 or string2에서 string2가 true이므로\n",
        "#결과값은 true로 결정되고 중단된다. 따라서 마지막으로 값이 구해진 인자는 string2이고 \n",
        "#strin2의 값이 return된다.\n",
        "print(non_null)"
      ],
      "metadata": {
        "id": "wAb-90LFfqsk"
      },
      "execution_count": null,
      "outputs": []
    },
    {
      "cell_type": "markdown",
      "source": [
        "**파이썬에서, C와는 달리, 표현식 안에서의 대입은 바다코끼리 연산자 :=를 사용하여 명시적으로 수행해야 합니다. C 프로그램에서 흔히 마주치는 부류의 문제들을 회피하도록 합니다: == 를 사용할 표현식에 = 를 입력하는 실수.**"
      ],
      "metadata": {
        "id": "Ee_No30ygM_Y"
      }
    },
    {
      "cell_type": "markdown",
      "source": [
        "##### 시퀀스와 다른 형들을 비교하기\n",
        "* 시퀀스는 보통 같은 시퀀스형과 비교\n",
        "* 사전식 순서 사용\n",
        "* ...."
      ],
      "metadata": {
        "id": "lmXo76ihgRX0"
      }
    },
    {
      "cell_type": "markdown",
      "source": [
        "# 6 모듈"
      ],
      "metadata": {
        "id": "NLPZtWRvg6jF"
      }
    },
    {
      "cell_type": "markdown",
      "source": [
        "* 파이썬 인터프리터에서 긴 프로그램을 쓰기 위해 편집기를 사용하여 파일을 입력하고 실행=>스크립트를 만든다\n",
        "* 파이썬은 정의들을 파일에 넣고 스크립트나 인터프리터에서 사용할 수 있는 방법을 제공하는데 이 파일을 모듈이라 한다.\n",
        "* 모듈은 정의와 문장을 담고있는 파일 (.py) 이름은 __name__으로 제공됨\n"
      ],
      "metadata": {
        "id": "jvtX4xzihARe"
      }
    },
    {
      "cell_type": "code",
      "source": [
        "# fibo.py\n",
        "\n",
        "def fib(n):\n",
        "  a,b=0,1\n",
        "  while a<n:\n",
        "    print(a,end=\" \")\n",
        "    a,b=b,a+b\n",
        "  print()\n",
        "\n",
        "def fib2(n):\n",
        "  a,b=0,1\n",
        "  result=[]\n",
        "  while a<n:\n",
        "    result.append(a)\n",
        "    a,b=b,a+b\n",
        "  return result"
      ],
      "metadata": {
        "id": "vu74dnLsaG_7"
      },
      "execution_count": null,
      "outputs": []
    },
    {
      "cell_type": "code",
      "source": [
        "# 인터프리터\n",
        "#import fibo #함수들 이름이 들어가는게 아니라 모듈이름 fibo만 들어가서 이를 이용해서 엑세스\n",
        "#fibo.fib(100)\n",
        "#fibo.fib(100)\n",
        "#fibo.__name__ #파일 이름 출력\n",
        "#fib=fibo.fib  #자주사용하는 것은 지역이름으로 대입 후 사용 가능\n",
        "#fib(500)"
      ],
      "metadata": {
        "id": "h4u4bd-FayIU"
      },
      "execution_count": null,
      "outputs": []
    },
    {
      "cell_type": "markdown",
      "source": [
        "#### 모듈 더보기\n",
        "* 모듈은 함수 정의 뿐만 아니라 실행 가능한 문장들도 포함할 수 있고, 이는 import문에서 실행되어서 모듈을 초기화하는데 사용된다.\n",
        "* 각 모듈은 자신만의 심볼 테이블을 갖고 있는데, 그 모듈에서 정의된 함수들의 전역 심볼 테이블로 사용됩니다. 그래서, 모듈의 저자는 사용자의 전역 변수와 우연히 충돌할 것을 걱정하지 않고 전역 변수를 사용할 수 있습니다. 반면에, 여러분이 무얼 하는지 안다면, 모듈의 함수를 참조하는데 사용된 것과 같은 표기법으로 모듈의 전역 변수들을 건드릴 수 있습니다, modname.itemname.\n",
        "* 모듈은 다른 모듈을 import할 수 있다"
      ],
      "metadata": {
        "id": "XenuIltObSRo"
      }
    },
    {
      "cell_type": "markdown",
      "source": [
        "\n",
        "```from fibo import fib,fib2 #fibo 모듈에서 함수를 바로 import\n",
        "fib(500) #fibo.fib가 아니라 바로 함수 이름으로 사용 가능\n",
        "\n",
        "from fibo import * #모든 이름 import(_로 시작하는 것 제외)\n",
        "\n",
        "import fibo as fib #모듈을 fib라는 이름으로 사용\n",
        "\n",
        "from fibo import fib as fibonacci #fibo의 fib함수를 fibonacci라는 이름으로 실행가능\n"
      ],
      "metadata": {
        "id": "pBNwozHper-a"
      }
    },
    {
      "cell_type": "markdown",
      "source": [
        "#### 모듈을 스크립트로 사용하기\n",
        "```\n",
        "python fibo.py <argument>\n",
        "```\n",
        "=>파이썬 모듈 실행 => 모듈의 코드가 import될 때 처럼 실행된다. 하지만 __name__ 은 \"__main__\"으로 설정된다.이것은 실행될 때만 실행되는 main코드이고\n",
        "모듈이 import될때는 실행되지 않는다."
      ],
      "metadata": {
        "id": "a04WrOqqfJyp"
      }
    },
    {
      "cell_type": "markdown",
      "source": [
        "#### 모듈 검색 경로\n",
        "모듈이 import될 때 인터프리터는 그 이름의 내장모듈을 찾고, 없으면 변수 sys.path로 주어지는 디렉터리에서 찾는다. ..."
      ],
      "metadata": {
        "id": "6hmaCr1wggu7"
      }
    },
    {
      "cell_type": "markdown",
      "source": [
        "#### 컴파일된 파이썬 파일\n",
        "모듈 로딩을 빠르게 하기 위해 컴파일된 버전을 캐싱\n",
        "\n"
      ],
      "metadata": {
        "id": "rY6zVq-HhHOJ"
      }
    },
    {
      "cell_type": "markdown",
      "source": [
        "####표준 모듈들\n",
        "* sys :모든 파이썬 인터프리터에 내장됩니다. 변수 sys.ps1 와 sys.ps2 는 기본과 보조 프롬프트로 사용되는 문자열을 정의합니다\n"
      ],
      "metadata": {
        "id": "qgW-4T3ZhY4J"
      }
    },
    {
      "cell_type": "code",
      "source": [
        "import sys\n",
        "print(sys.ps1)\n",
        "print(sys.ps2)\n",
        "sys.ps1='C>'\n",
        "#변수 sys.path 는 인터프리터의 모듈 검색 경로를 결정하는 문자열들의 리스트입니다. \n",
        "print(sys.path)"
      ],
      "metadata": {
        "id": "IJsSxy3cidh5"
      },
      "execution_count": null,
      "outputs": []
    },
    {
      "cell_type": "markdown",
      "source": [
        "#### dir()함수\n",
        "* 모듈이 정의하는 이름들 리스트 return(모든 형의 이름들)"
      ],
      "metadata": {
        "id": "6CslOX4zi6GV"
      }
    },
    {
      "cell_type": "code",
      "source": [
        "import sys\n",
        "print(dir(sys))#sys모듈이 정의하는 이름들 리스트 출력\n",
        "print(\"===\")\n",
        "a = [1, 2, 3, 4, 5]\n",
        "print(dir()) #dir에 인자가 없으면 현재 정의한 이름들 나열\n",
        "print(\"===\")\n",
        "#내장함수와 변수들의 이름 나열\n",
        "import builtins\n",
        "print(dir(builtins))"
      ],
      "metadata": {
        "id": "-864kE3ujB9I"
      },
      "execution_count": null,
      "outputs": []
    },
    {
      "cell_type": "markdown",
      "source": [
        "#### 패키지\n",
        "* 점으로 구분된 모둘 이름을 써서 모듈 이름 공간을 구조화\n",
        "* 모듈이름 패키지.서브모듈\n",
        "\n",
        "```\n",
        "import sound.effects.echo\n",
        "sound.effects.echo.~\n",
        "\n",
        "from sound.effects import echo\n",
        "echo.~\n",
        "```"
      ],
      "metadata": {
        "id": "d_r2iaWkjqDX"
      }
    },
    {
      "cell_type": "markdown",
      "source": [
        "#### 패키지에서 * import\n",
        "\n",
        "* 패키지의 모든 모듈을 import 하면 시간이 오래걸리고 충돌이 일어날 수 있다\n",
        "\n",
        "=> 패키지의 __init__.py 에 \n",
        " __all__ = [\"echo\", \"surround\", \"reverse\"]와 같은 코드를 추가한 후 *import를 하면 해당 서브모듈만 import된다."
      ],
      "metadata": {
        "id": "LlOK6fxjjBE6"
      }
    },
    {
      "cell_type": "markdown",
      "source": [
        "#### 패키지 내부간 참조\n",
        "\n",
        "패키지가 서브패키지들로 구조화될 때 이웃 패키지의 서브모듈을 가리킬 때 \n",
        "from .. import ~"
      ],
      "metadata": {
        "id": "axc-fkVGmfVa"
      }
    },
    {
      "cell_type": "markdown",
      "source": [
        "#7.입력과 출력"
      ],
      "metadata": {
        "id": "mwFaXAiIm57k"
      }
    },
    {
      "cell_type": "markdown",
      "source": [
        "### 장식적인 출력 포매팅\n"
      ],
      "metadata": {
        "id": "qZyu-ynem8Al"
      }
    },
    {
      "cell_type": "code",
      "source": [
        "# 포맷 문자열 리터럴=>시작 인용부호 또는 삼중 인용 부호 앞에 f 또는 F를 붙여 문자열 시작\n",
        "year=2022\n",
        "event='referen'\n",
        "print(f'result of the {year} that {event}')\n",
        "# 문자열의 앞에 f를 붙이고 { }안에 변수 이름을 넣는다\n",
        "\n",
        "# str.format() \n",
        "yes_votes = 42_572_654\n",
        "no_votes = 43_132_495 # _ 는 세자리?구분 의미없음\n",
        "percentage = yes_votes / (yes_votes + no_votes)\n",
        "print('{:-9} YES votes  {:2.2%}'.format(yes_votes, percentage))\n",
        "#https://roksf0130.tistory.com/116\n",
        "# {:-9} => 우측 정렬 고정자리 9자리로 표현...\n",
        "\n",
        "#문자열 슬라이싱 및 이어붙이기 연산을 사용"
      ],
      "metadata": {
        "colab": {
          "base_uri": "https://localhost:8080/"
        },
        "id": "fUNexUvSwTHm",
        "outputId": "446b8d77-5999-4131-d259-d410608337b7"
      },
      "execution_count": 21,
      "outputs": [
        {
          "output_type": "stream",
          "name": "stdout",
          "text": [
            "result of the 2022 that referen\n",
            " 42572654 YES votes  49.67%\n"
          ]
        }
      ]
    },
    {
      "cell_type": "code",
      "source": [
        "s='Hello world!'\n",
        "# str() : 사람이 읽기에 적합한 형태로 값의 표현을 돌려줌\n",
        "# 보통 정수나 소수등의 자료형을 출력하거나 접합(+)할 때\n",
        "#문자열 버전 반환 *내장 클래스이다\n",
        "print(str(s))\n",
        "#repr() : 인터프리터에 의해 읽힐 수 있는 형태를 만든다(표현 불가능 문법=>SyntaxError)\n",
        "print(repr(s))\n",
        "\n",
        "print(str(1/7))\n",
        "x = 10 * 3.25\n",
        "y = 200 * 200\n",
        "s = 'The value of x is ' + repr(x) + ', and y is ' + repr(y)\n",
        "print(s)\n",
        "\n",
        "#두 함수의 차이\n",
        "a=1\n",
        "b='1'\n",
        "print('b',b,'str(b)',str(b),'repr(b)',repr(b))\n",
        "#repr는 원래의 표현식대로 출력한다"
      ],
      "metadata": {
        "id": "XSXzMioQyJYv",
        "colab": {
          "base_uri": "https://localhost:8080/"
        },
        "outputId": "a111a454-f64f-4df8-9e8b-427019431f36"
      },
      "execution_count": 22,
      "outputs": [
        {
          "output_type": "stream",
          "name": "stdout",
          "text": [
            "Hello world!\n",
            "'Hello world!'\n",
            "0.14285714285714285\n",
            "The value of x is 32.5, and y is 40000\n",
            "b 1 str(b) 1 repr(b) '1'\n"
          ]
        }
      ]
    },
    {
      "cell_type": "markdown",
      "source": [
        "*string 모듈에는 문자열에 값을 치환하는 또 다른 방법을 제공하는 Template 클래스가 포함되어 있습니다. $x와 같은 자리 표시자를 사용하고 이것들을 딕셔너리에서 오는 값으로 치환하지만, 포매팅에 대한 제어를 훨씬 덜 제공합니다."
      ],
      "metadata": {
        "id": "P9nidCh8NUq3"
      }
    },
    {
      "cell_type": "markdown",
      "source": [
        "#### 포맷 문자열 리터럴\n",
        "문자열 앞에 f or F를 붙이고 표현식{}으로 작성하여 값 삽입"
      ],
      "metadata": {
        "id": "cH0EyDYhNXQP"
      }
    },
    {
      "cell_type": "code",
      "source": [
        "import math\n",
        "print(f\"the value pi {math.pi:.3f}\")\n",
        "#pi를 소숫점 3자리 이하로 반올림해서 출력\n",
        "#포맷 지정자를 표현식 뒤에 넣음으로써 제어\n",
        "\n",
        "#최소 문자 폭 설정 => 열을 줄 맞춤\n",
        "table = {'Sjoerd': 4127, 'Jack': 4098, 'Dcab': 7678}\n",
        "for name,phone in table.items():\n",
        "  print(f'{name:10} ==> {phone:10d}')\n",
        "# : 뒤에 정수를 입력하면 최소 문자폭이 된다\n",
        "\n",
        "\n",
        "# 포맷되기 전 값 변환\n",
        "animals = 'eels'\n",
        "print(f'this {animals}')\n",
        "print(f'this {animals!r}') # !r => repr()\n",
        "print(f'this {animals!a}') # !a => ascii()\n",
        "print(f'this {animals!s}') # !s => str()"
      ],
      "metadata": {
        "colab": {
          "base_uri": "https://localhost:8080/"
        },
        "id": "EBGOzFqCNWQ0",
        "outputId": "150c2054-dc2a-4e49-80da-a3ff7a616afa"
      },
      "execution_count": 23,
      "outputs": [
        {
          "output_type": "stream",
          "name": "stdout",
          "text": [
            "the value pi 3.142\n",
            "Sjoerd     ==>       4127\n",
            "Jack       ==>       4098\n",
            "Dcab       ==>       7678\n",
            "this eels\n",
            "this 'eels'\n",
            "this 'eels'\n",
            "this eels\n"
          ]
        }
      ]
    },
    {
      "cell_type": "markdown",
      "source": [
        "#### 문자열 format() 메서드\n"
      ],
      "metadata": {
        "id": "3WzgAZoaNW9V"
      }
    },
    {
      "cell_type": "code",
      "source": [
        "print(' we are {} who say {}'.format('knight','Ni'))\n",
        "# \"문자열 {} ...{}...\".format(...) 중괄호에 format을 통해 전달된 개채로 치환\n",
        "\n",
        "print('{0} and {1}'.format('spam', 'eggs'))\n",
        "print('{1} and {0}'.format('spam', 'eggs')) #중괄호 안에 index를 넣어 format의 인자들의\n",
        "#index를 맞춰서 출력 가능 \n",
        "\n",
        "print('This {food} is {adjective}.'.format(food='spam', adjective='absolutely horrible'))\n",
        "# 순서 index대신 키워드 인자를 통해 format()에서 지정할 수 있다\n",
        "\n",
        "print('the {1},{0},{others}'.format('a','b',others='c'))\n",
        "# 순서와 키워드 조합 가능\n",
        "\n",
        "# format에 딕셔너리를 넣을 때\n",
        "table = {'Sjoerd': 1, 'Jack': 2, 'Dcab': 3}\n",
        "print('jack:{0[Jack]:d}===Sjoerd: {0[Sjoerd]:d}===Dcab: {0[Dcab]:d}'.format(table))\n",
        "# { 0(0번 index format)[키워드]:자료형}으로 받아올 수 있따\n",
        "print('Jack: {Jack:d}; Sjoerd: {Sjoerd:d}; Dcab: {Dcab:d}'.format(**table))\n",
        "# 위와 달리 []를 사용하지 않고 {키워드:자료형}...'.format( ** ~)를 사용할 수 있다\n",
        "\n",
        "#\n",
        "for x in range(1,11):\n",
        "  print('{0:2d} {1:3d} {2:4d}'.format(x,x*x,x*x*x))\n",
        "  "
      ],
      "metadata": {
        "colab": {
          "base_uri": "https://localhost:8080/"
        },
        "id": "TeHvAf-6PIpu",
        "outputId": "0d75e6eb-01ff-4889-f41c-7ed6355915da"
      },
      "execution_count": 24,
      "outputs": [
        {
          "output_type": "stream",
          "name": "stdout",
          "text": [
            " we are knight who say Ni\n",
            "spam and eggs\n",
            "eggs and spam\n",
            "This spam is absolutely horrible.\n",
            "the b,a,c\n",
            "jack:2===Sjoerd: 1===Dcab: 3\n",
            "Jack: 2; Sjoerd: 1; Dcab: 3\n",
            " 1   1    1\n",
            " 2   4    8\n",
            " 3   9   27\n",
            " 4  16   64\n",
            " 5  25  125\n",
            " 6  36  216\n",
            " 7  49  343\n",
            " 8  64  512\n",
            " 9  81  729\n",
            "10 100 1000\n"
          ]
        }
      ]
    },
    {
      "cell_type": "markdown",
      "source": [
        "#### 수동 문자열 포매팅\n"
      ],
      "metadata": {
        "id": "RgRVzPs6Rwl0"
      }
    },
    {
      "cell_type": "code",
      "source": [
        "for x in range(1,11):\n",
        "  print(repr(x).rjust(2), repr(x*x).ljust(3),end=' ')\n",
        "  print(repr(x*x*x).center(4))\n",
        "# str.rjust() => 왼쪽에 스페이스를 채워서 주어진 폭으로 문자열을 우측 줄맞춤\n",
        "# str.ljust() , str.center()"
      ],
      "metadata": {
        "colab": {
          "base_uri": "https://localhost:8080/"
        },
        "id": "mYyEErWNSG5-",
        "outputId": "dce7f35d-0e98-4360-ae6b-5b0ade86ce9d"
      },
      "execution_count": 25,
      "outputs": [
        {
          "output_type": "stream",
          "name": "stdout",
          "text": [
            " 1 1    1  \n",
            " 2 4    8  \n",
            " 3 9    27 \n",
            " 4 16   64 \n",
            " 5 25  125 \n",
            " 6 36  216 \n",
            " 7 49  343 \n",
            " 8 64  512 \n",
            " 9 81  729 \n",
            "10 100 1000\n"
          ]
        }
      ]
    },
    {
      "cell_type": "code",
      "source": [
        "# str.zfill() : 숫자 문자열의 왼쪽에 0을 채운다\n",
        "print('12'.zfill(5))\n",
        "print('-3.14'.zfill(7))#부호와 소수점 포함해서 7개가 되도록 0을 추가"
      ],
      "metadata": {
        "colab": {
          "base_uri": "https://localhost:8080/"
        },
        "id": "H_t4LXoWTpgi",
        "outputId": "3ec9b294-3072-49bf-d509-527405ff7f12"
      },
      "execution_count": 26,
      "outputs": [
        {
          "output_type": "stream",
          "name": "stdout",
          "text": [
            "00012\n",
            "-003.14\n"
          ]
        }
      ]
    },
    {
      "cell_type": "markdown",
      "source": [
        "#### 예전의 문자열 포매팅\n"
      ],
      "metadata": {
        "id": "gGnZM0i0UB7S"
      }
    },
    {
      "cell_type": "code",
      "source": [
        "# %연산자로 문자열 포매팅\n",
        "# 'string' % values => string에 %인스턴스를 values로 대체\n",
        "\n",
        "print('the value %5.3f' % math.pi)"
      ],
      "metadata": {
        "colab": {
          "base_uri": "https://localhost:8080/"
        },
        "id": "LqLfzdOBUEX0",
        "outputId": "a05f8be2-a8c3-4655-fe4c-8f801a7845a2"
      },
      "execution_count": 27,
      "outputs": [
        {
          "output_type": "stream",
          "name": "stdout",
          "text": [
            "the value 3.142\n"
          ]
        }
      ]
    },
    {
      "cell_type": "markdown",
      "source": [
        "### 파일 읽고 쓰기"
      ],
      "metadata": {
        "id": "78Qsf6uyUlUv"
      }
    },
    {
      "cell_type": "markdown",
      "source": [
        "open(filename, mode) 은 파일 객체를 돌려준다\n",
        "* mode : 자동으로 끝에 데이터가 붙게 됨\n",
        "  * read:r (default)\n",
        "  * write :w(같은 이름의 파일이 있으면 삭제됨)\n",
        "  * 추가 : a\n",
        "  * r+:읽고 쓰기\n",
        "  * mode에 덧붙여진 b => 파일을 바이너리 모드러 연다"
      ],
      "metadata": {
        "id": "cicPzV4yUoNa"
      }
    },
    {
      "cell_type": "code",
      "source": [
        "f= open('workfile','w')#파일을 생성하고 쓰기 위해 열었다\n",
        "f.write('file write')#파일에 문자열을 쓰고\n",
        "\n",
        "with open('workfile') as f:#with 키워드를 사용하여 파일 객체를 다룸\n",
        "  read_data = f.read() # 읽은 문자열을 저장후 출력\n",
        "  print(read_data)\n",
        "\n",
        "f.close()# with키워드를 사용하지 않은 경우 파일을 닫아야 한다\n",
        "f.closed"
      ],
      "metadata": {
        "colab": {
          "base_uri": "https://localhost:8080/"
        },
        "id": "y1qG6l_3W9Z7",
        "outputId": "af10e7be-5202-45c6-af39-7b8f236b40de"
      },
      "execution_count": 28,
      "outputs": [
        {
          "output_type": "stream",
          "name": "stdout",
          "text": [
            "file write\n"
          ]
        },
        {
          "output_type": "execute_result",
          "data": {
            "text/plain": [
              "True"
            ]
          },
          "metadata": {},
          "execution_count": 28
        }
      ]
    },
    {
      "cell_type": "code",
      "source": [
        "f= open('workfile','r')\n",
        "a=f.read(3)# f.read(size)=>size만큼 읽는다\n",
        "b=f.read() # size생략 or 음수 => 문서 전체, 파일 끝에 도달하면 빈 문자열 return\n",
        "print(a,'\\n')\n",
        "print(b)\n",
        "f.close()"
      ],
      "metadata": {
        "colab": {
          "base_uri": "https://localhost:8080/"
        },
        "id": "b7iTrURzZPoH",
        "outputId": "d0c5fbbf-3bf6-4850-ee0a-6dfde34e82bf"
      },
      "execution_count": 29,
      "outputs": [
        {
          "output_type": "stream",
          "name": "stdout",
          "text": [
            "fil \n",
            "\n",
            "e write\n"
          ]
        }
      ]
    },
    {
      "cell_type": "code",
      "source": [
        "f= open('workfile2','w')\n",
        "print(f.write('file write \\n second line\\n three'))# f.write(string)은 문자의 개수를 return\n",
        "\n",
        "# 파일에 쓰기 전에 다른형의 객체를 문자열로 변환\n",
        "value= ('add string',42)\n",
        "s=str(value)\n",
        "print(s)\n",
        "f.write(s)\n",
        "\n",
        "f= open('workfile2','r')\n",
        "# print(f.readline())\n",
        "# print(f.readline())#한 줄씩 출력\n",
        "\n",
        "# for line in f:#파일 객체 루프\n",
        "#   print(line,end='')\n",
        "\n",
        "#print(list(f))#파일의 모든 줄을 리스트로 읽기\n",
        "print(f.readlines())#파일의 모든 줄을 리스트로 읽기\n",
        "f.close()"
      ],
      "metadata": {
        "colab": {
          "base_uri": "https://localhost:8080/"
        },
        "id": "Q1gTXSMuaLJs",
        "outputId": "4776ba77-e7c6-4831-82df-1be552bd7371"
      },
      "execution_count": 30,
      "outputs": [
        {
          "output_type": "stream",
          "name": "stdout",
          "text": [
            "31\n",
            "('add string', 42)\n",
            "['file write \\n', ' second line\\n', \" three('add string', 42)\"]\n"
          ]
        }
      ]
    },
    {
      "cell_type": "code",
      "source": [
        "f = open('workfile', 'rb+')\n",
        "print(f.write(b'0123456789abcdef'))\n",
        "print(\"---\")\n",
        "# f.tell() : 파일의 현재 위치를 알려주는 정수\n",
        "print(f.tell())#바이너리 모드이기 때문에 파일의 처음부터의 바이트 수(write의 return값과 같다)\n",
        "\n",
        "f.seek(5)# f.seek()는 파일 객체의 위치를 바꾼다(커서를 바꿈)\n",
        "print(f.read(1))#그래서 읽으면ㄴ 첫 위치에서 5칸 떨어진 것이 출력\n",
        "\n",
        "# seek의 두번째 인자가 0이면 파일 처음,1이면 현재 커서,2이면 파일 끝을 기준점으로 이동 \n",
        "f.seek(-3,1)#현재 커서를 기준으로 -3이동\n",
        "print(f.read(1))\n",
        "f.close()"
      ],
      "metadata": {
        "colab": {
          "base_uri": "https://localhost:8080/"
        },
        "id": "WxXVzTpRbT0j",
        "outputId": "85f929d4-4190-42c1-ecde-2998c2e0c5f0"
      },
      "execution_count": 31,
      "outputs": [
        {
          "output_type": "stream",
          "name": "stdout",
          "text": [
            "16\n",
            "---\n",
            "16\n",
            "b'5'\n",
            "b'3'\n"
          ]
        }
      ]
    },
    {
      "cell_type": "markdown",
      "source": [
        "#### json으로 구조적인 데이터를 저장\n",
        "* json.dump(객체,파일)=>객체를 파일에 쓰기\n",
        "* json.load(파일) => 읽은 객체를 디코드=>기존 자료형으로 return"
      ],
      "metadata": {
        "id": "Ekl5v1NLd05w"
      }
    },
    {
      "cell_type": "code",
      "source": [
        "import json\n",
        "x=[1,'simple','list']\n",
        "json.dumps(x)# json.dumps()는 객체를 텍스트파일로 직렬화\n",
        "\n",
        "# 파일에서\n",
        "f= open('workfile2','w')\n",
        "\n",
        "json.dump(x, f)# 문자열이 아닌 객체를 텍스트파일로 직렬화 후 쓰기\n",
        "\n",
        "f= open('workfile2','r')\n",
        "# print(f.readlines())#문자열이 출력된다\n",
        "\n",
        "y = json.load(f) # 문자열이 아닌 기존 자료형 그대로 출력\n",
        "print(y)"
      ],
      "metadata": {
        "colab": {
          "base_uri": "https://localhost:8080/"
        },
        "id": "aCOQhKEceBih",
        "outputId": "ca08c86d-c5ca-4365-dfe7-efeb53ba9ab3"
      },
      "execution_count": 32,
      "outputs": [
        {
          "output_type": "stream",
          "name": "stdout",
          "text": [
            "[1, 'simple', 'list']\n"
          ]
        }
      ]
    },
    {
      "cell_type": "markdown",
      "source": [
        "#8. 에러와 예외"
      ],
      "metadata": {
        "id": "oa8byTGdfRS-"
      }
    },
    {
      "cell_type": "markdown",
      "source": [
        "#### 문법에러\n",
        "=파싱에러\n",
        "\n",
        "invalid syntax => 화살표의 앞에 오는 토큰문제"
      ],
      "metadata": {
        "id": "tmKHjCS7fU7q"
      }
    },
    {
      "cell_type": "markdown",
      "source": [
        "####예외\n",
        "*문법적으로 올바르지만 실행할 때 에러\n",
        "\n",
        "####예외처리\n",
        "try:\n",
        "\n",
        "  ..\n",
        "\n",
        "except error:\n",
        "\n",
        "  ..."
      ],
      "metadata": {
        "id": "ti7t-7PXnSgD"
      }
    },
    {
      "cell_type": "code",
      "source": [
        "while True:\n",
        "  try:\n",
        "    x = int(input(\"Please enter a number: \"))#먼저 실행되는데\n",
        "    break#에외가 발생 x 면 종료\n",
        "  except ValueError:#만약 try에서 error가 발생하면 건너뛰고 except 뒤에 있는 예외와 일치하면\n",
        "    print(\"try again\")#실행, try블록 이후 실행계속됨\n",
        "\n",
        "#except (에러1, 에러2,...): 여러 에러 가능"
      ],
      "metadata": {
        "colab": {
          "base_uri": "https://localhost:8080/"
        },
        "id": "SAk37SMtnu1j",
        "outputId": "4458925e-fa19-4d6b-ad4b-36a7e40163a0"
      },
      "execution_count": 34,
      "outputs": [
        {
          "name": "stdout",
          "output_type": "stream",
          "text": [
            "Please enter a number: 2\n"
          ]
        }
      ]
    },
    {
      "cell_type": "markdown",
      "source": [
        "#### 예외 일으키기\n"
      ],
      "metadata": {
        "id": "02hNQIR_qlJ9"
      }
    },
    {
      "cell_type": "code",
      "source": [
        "# raise 발생시킬 예외\n",
        "try:\n",
        "  raise NameError('hithere')\n",
        "except NameError:\n",
        "  print('error raised')\n",
        "  #raise # 다시 그 예외를 일으킨다"
      ],
      "metadata": {
        "id": "PPNS1k8BqnEx"
      },
      "execution_count": null,
      "outputs": []
    },
    {
      "cell_type": "markdown",
      "source": [
        "#### 예외 연쇄\n",
        "*예외 연결은 예외 또는 최종 섹션 내에서 예외가 발생하면 자동으로 발생합니다. from None 관용구를 사용하여 비활성화할 수 있습니다.\n",
        "\n",
        "*raise는 연결예외를 활성화하는 선택사항 허용"
      ],
      "metadata": {
        "id": "KBiz8McIrJC_"
      }
    },
    {
      "cell_type": "code",
      "source": [
        "def func():\n",
        "  raise ConnectionError\n",
        "\n",
        "# try:\n",
        "#   func()\n",
        "# except ConnectionError as exc:\n",
        "#   raise RuntimeError('fail to open..') from exc"
      ],
      "metadata": {
        "id": "xz87SaSgrRH4"
      },
      "execution_count": null,
      "outputs": []
    },
    {
      "cell_type": "markdown",
      "source": [
        "#### 뒷정리 동작 정의\n",
        "* finally:...\n",
        "\n",
        "*try 절을 실행하는 동안 예외가 발생하면, except 절에서 예외를 처리할 수 있습니다. 예외가 except 절에서 처리되지 않으면, finally 절이 실행된 후 예외가 다시 발생합니다.\n",
        "\n",
        "*except나 else 절 실행 중에 예외가 발생할 수 있습니다. 다시, finally 절이 실행된 후 예외가 다시 발생합니다."
      ],
      "metadata": {
        "id": "QaBtdYo_sRAT"
      }
    },
    {
      "cell_type": "code",
      "source": [
        "# try:\n",
        "#   raise KeyboardInterrupt\n",
        "# finally:\n",
        "#   print(\"HI!\")\n",
        "\n",
        "# try 절이 완료되기 전에 finally가 완료된 후 try 완료\n",
        "\n",
        "def bool_return():\n",
        "  try:\n",
        "    return True #try의 return이 아닌\n",
        "  finally:\n",
        "    return False#finally의 return값이 return된다\n",
        "\n",
        "bool_return()\n",
        "\n",
        "def divide(x,y):\n",
        "  try:\n",
        "    result=x/y\n",
        "  except ZeroDivisionError:\n",
        "    print('division by zero')\n",
        "  else:\n",
        "    print(\"result is\",result)\n",
        "  finally:\n",
        "    print(\"finally clause\")\n",
        "\n",
        "divide(2,1)# else 절이 완료 후 finally절 완료\n",
        "\n",
        "divide(2,0)# except 후 finally\n",
        "\n",
        "#divide(\"2\",\"1\") # finally후 error\n"
      ],
      "metadata": {
        "id": "Egh09loDsWwr"
      },
      "execution_count": null,
      "outputs": []
    },
    {
      "cell_type": "markdown",
      "source": [
        "#### 미리 정의된 뒷정리 동작들\n",
        "* with 객체를 이용해 문장 실행 후 줄 처리 문제 발생해도 파일이 항상 닫히도록\n",
        "```\n",
        "with open(\"myfile.txt\") as f:\n",
        "    for line in f:\n",
        "        print(line, end=\"\")\n",
        " ```"
      ],
      "metadata": {
        "id": "G1fm1hRRuLQo"
      }
    },
    {
      "cell_type": "markdown",
      "source": [
        "#9. 클래스\n",
        "* 데이터와 기능을 묶는다\n"
      ],
      "metadata": {
        "id": "WQeKuGPgoGBY"
      }
    },
    {
      "cell_type": "markdown",
      "source": [
        "#10.표준 라이브러리 둘러보기\n"
      ],
      "metadata": {
        "id": "QRcwfX_fNNjl"
      }
    },
    {
      "cell_type": "markdown",
      "source": [
        "### 운영체제 인터페이스 \n",
        " os\n",
        "\n",
        "* os.getcwd() : 현재 커서 위치\n",
        "* os.chdir('~') : 커서 이동\n",
        "* os.system('~') : 시스템 명령어 호출"
      ],
      "metadata": {
        "id": "Hsrl55clNRBG"
      }
    },
    {
      "cell_type": "code",
      "source": [
        "# 운영체제와 상호작용하기 위한 함수\n",
        "import os\n",
        "# from os import * 를 사용하면 open()과 os.open()이 충돌한다\n",
        "\n",
        "print(os.getcwd())# 현재 커서가 위치해있는 디렉터리를 연다\n",
        "#print(os.chdir('/content/today'))#커서를 이동시킨다\n",
        "print(os.getcwd())#이동했는지 확인\n",
        "print(os.system('mkdir today'))#디렉토리를 만드는 시스템 명령어 호출\n",
        "\n",
        "#print(dir(os))#어떤 변수와 메소드를 가지고 있는지\n",
        "#help(os) #해당 클래스나 함수 정보"
      ],
      "metadata": {
        "colab": {
          "base_uri": "https://localhost:8080/"
        },
        "id": "q_9Ba_6hNURY",
        "outputId": "68c32a78-d6c0-41c4-dc1b-f1286192f91e"
      },
      "execution_count": 42,
      "outputs": [
        {
          "output_type": "stream",
          "name": "stdout",
          "text": [
            "/content/sample_data\n",
            "/content/sample_data\n",
            "0\n"
          ]
        }
      ]
    },
    {
      "cell_type": "code",
      "source": [
        "# shutil : 파일을 복사해주는 파이썬 모둘\n",
        "import shutil\n",
        "os.chdir('/content/sample_data')\n",
        "print(shutil.copyfile('README.md','copyfile'))#커서가 있는 디렉토리의 파일을 복사해서 새 파일 생성\n",
        "shutil.move('/content/sample_data/copyfile','/content/sample_data/coptfile/copyfile')#파일 위치 변경\n",
        "#           원래 파일 위치                  이동 위치"
      ],
      "metadata": {
        "colab": {
          "base_uri": "https://localhost:8080/",
          "height": 54
        },
        "id": "gwxmTYjTPK2w",
        "outputId": "860d91b0-18bc-40c5-caa5-adf18865af46"
      },
      "execution_count": 47,
      "outputs": [
        {
          "output_type": "stream",
          "name": "stdout",
          "text": [
            "copyfile\n"
          ]
        },
        {
          "output_type": "execute_result",
          "data": {
            "application/vnd.google.colaboratory.intrinsic+json": {
              "type": "string"
            },
            "text/plain": [
              "'/content/sample_data/coptfile/copyfile'"
            ]
          },
          "metadata": {},
          "execution_count": 47
        }
      ]
    },
    {
      "cell_type": "markdown",
      "source": [
        "### 파일 와일드 카드\n"
      ],
      "metadata": {
        "id": "Nr4HtUDbUnYo"
      }
    },
    {
      "cell_type": "code",
      "source": [
        "# 특정 디렉터리에 있는 파일들을 리스트로 만들어서 확인할 수 있다.\n",
        "import glob\n",
        "print(glob.glob('/content/sample_data/coptfile/*'))# 해당 파일 이름인(디렉토리에 있는) 파일 리스트\n",
        "print('===')\n",
        "print(glob.glob('*.csv'))#확장자를 이용한 파일 리스트 출력"
      ],
      "metadata": {
        "colab": {
          "base_uri": "https://localhost:8080/"
        },
        "id": "4o41eL2gUsQC",
        "outputId": "f6bca5df-e632-48d9-e145-c3c059c6b5a8"
      },
      "execution_count": 53,
      "outputs": [
        {
          "output_type": "stream",
          "name": "stdout",
          "text": [
            "['/content/sample_data/coptfile/workfile2', '/content/sample_data/coptfile/copyfile', '/content/sample_data/coptfile/workfile', '/content/sample_data/coptfile/today']\n",
            "===\n",
            "['mnist_test.csv', 'california_housing_train.csv', 'mnist_train_small.csv', 'california_housing_test.csv']\n"
          ]
        }
      ]
    },
    {
      "cell_type": "markdown",
      "source": [
        "### 명령행 인자"
      ],
      "metadata": {
        "id": "6PRZfMtcVqIq"
      }
    },
    {
      "cell_type": "code",
      "source": [
        "# 명령 행에서 .py 파일과 인자를 실행하면\n",
        "import sys\n",
        "print(sys.argv)# 실행한 파일과 인자를 리스트로 출력\n",
        "\n",
        "#https://brownbears.tistory.com/413\n",
        "import argparse # 명령줄 인자를 처리\n",
        "\n"
      ],
      "metadata": {
        "colab": {
          "base_uri": "https://localhost:8080/"
        },
        "id": "M5-046xac3bD",
        "outputId": "0cbb06a0-6a18-482b-a93a-af5c33d3e872"
      },
      "execution_count": 54,
      "outputs": [
        {
          "output_type": "stream",
          "name": "stdout",
          "text": [
            "['/usr/local/lib/python3.7/dist-packages/ipykernel_launcher.py', '-f', '/root/.local/share/jupyter/runtime/kernel-f9bcfa88-4f35-42d0-a282-934420e256e8.json']\n"
          ]
        }
      ]
    },
    {
      "cell_type": "markdown",
      "source": [
        "### 에러 출력 리디렉션과 프로그램 종료\n",
        "\n",
        "* sys.stdin.readline()\n",
        "  * 한 줄단위로 입력받고,개행문자가 같이 입력되기 때문에 개행문자를 제거하고, 형 변환을 해야한다\n",
        "  * input() 과 같은 역할이지만 더 빠르다\n",
        "* sys.stdout.write()\n",
        "  * print()와 같은 역할이지만 print와 달리 개행을 하지 않고 출력\n",
        "* sys.stderr 표준에러\n",
        "* sys.exit() :스크립트 종료"
      ],
      "metadata": {
        "id": "9Jkt0b_OfD-v"
      }
    },
    {
      "cell_type": "code",
      "source": [
        "import sys\n",
        "# stdin https://velog.io/@yeseolee/Python-%ED%8C%8C%EC%9D%B4%EC%8D%AC-%EC%9E%85%EB%A0%A5-%EC%A0%95%EB%A6%ACsys.stdin.readline\n",
        "#t= sys.stdin.readline()\n",
        "\n",
        "for x in sys.stdin.readline():\n",
        "  print(x)\n",
        "#여러줄 입력받아야 할 때 시간초과를 방지하기 위해\n",
        "# a,b,c = map(sys.stdin.readline().split())\n",
        "#a=input()\n",
        "#단 코랩이나 주피터에서는 작동하지 않는다\n"
      ],
      "metadata": {
        "id": "jH-037oCfHpZ"
      },
      "execution_count": 65,
      "outputs": []
    },
    {
      "cell_type": "code",
      "source": [
        "sys.stderr.write('Warning, log file not found starting a new one\\n')"
      ],
      "metadata": {
        "colab": {
          "base_uri": "https://localhost:8080/"
        },
        "id": "sHm9CAoSh48r",
        "outputId": "a096f2bf-36e9-4c0b-ecd1-eecd366a9a90"
      },
      "execution_count": 68,
      "outputs": [
        {
          "output_type": "stream",
          "name": "stderr",
          "text": [
            "Warning, log file not found starting a new one\n"
          ]
        }
      ]
    },
    {
      "cell_type": "markdown",
      "source": [
        "### 문자열 패턴 매칭\n"
      ],
      "metadata": {
        "id": "tuYXSeKbj1Lx"
      }
    },
    {
      "cell_type": "code",
      "source": [
        "import re\n",
        "#문자열 안에서 특정 패턴에 맞는 케이스를 리스트로 반환 \n",
        "a=re.findall(r'\\bf[a-z]*', 'which foot or hand fell fastest')# \\bf[~]=>f로 시작하는 문자\n",
        "b=re.sub(r'(\\b[a-z]+) \\1', r'\\1', 'cat in the the hat')\n",
        "# + => 1회 이상 반복\n",
        "\n",
        "print(a)\n",
        "print(\"===\")\n",
        "print(b)"
      ],
      "metadata": {
        "colab": {
          "base_uri": "https://localhost:8080/"
        },
        "id": "N9aQ7dspj62t",
        "outputId": "e5b6ce68-f0d8-41c3-c1e8-8161c599526c"
      },
      "execution_count": 71,
      "outputs": [
        {
          "output_type": "stream",
          "name": "stdout",
          "text": [
            "['foot', 'fell', 'fastest']\n",
            "===\n",
            "cat in the hat\n"
          ]
        }
      ]
    },
    {
      "cell_type": "markdown",
      "source": [
        "### 수학\n"
      ],
      "metadata": {
        "id": "TmE18ymnlTrT"
      }
    },
    {
      "cell_type": "code",
      "source": [
        "import math\n",
        "print(math.cos(math.pi/4))\n",
        "print(math.log(1024,2))"
      ],
      "metadata": {
        "colab": {
          "base_uri": "https://localhost:8080/"
        },
        "id": "qd7XWy0glVWd",
        "outputId": "25268adc-8170-4f58-91a6-ac97f909ebbe"
      },
      "execution_count": 73,
      "outputs": [
        {
          "output_type": "stream",
          "name": "stdout",
          "text": [
            "0.7071067811865476\n",
            "10.0\n"
          ]
        }
      ]
    },
    {
      "cell_type": "code",
      "source": [
        "import random\n",
        "print(random.choice(['a','b','c']))# choice => 복원추출\n",
        "print(random.sample(range(100),10))# sample => 비복원추출\n",
        "\n",
        "print(random.random())#랜덤 실수\n",
        "print(random.randrange(6))# 범위내 정수 랜덤 선택"
      ],
      "metadata": {
        "colab": {
          "base_uri": "https://localhost:8080/"
        },
        "id": "JJh8bFvjnnuh",
        "outputId": "30b81fdf-4dc2-4ba5-9e4b-79955474ee60"
      },
      "execution_count": 75,
      "outputs": [
        {
          "output_type": "stream",
          "name": "stdout",
          "text": [
            "a\n",
            "[40, 80, 38, 8, 20, 45, 89, 66, 18, 43]\n",
            "0.6797885708165355\n",
            "2\n"
          ]
        }
      ]
    },
    {
      "cell_type": "code",
      "source": [
        "import statistics\n",
        "data = [2.75, 1.75, 1.25, 0.25, 0.5, 1.25, 3.5]\n",
        "\n",
        "print(statistics.mean(data))#평균\n",
        "print(statistics.median(data))#중간값\n",
        "print(statistics.variance(data))#분산"
      ],
      "metadata": {
        "colab": {
          "base_uri": "https://localhost:8080/"
        },
        "id": "fG9_ZsNJokWi",
        "outputId": "99258b5d-c73a-4e19-9bb7-ae9f55703abf"
      },
      "execution_count": 76,
      "outputs": [
        {
          "output_type": "stream",
          "name": "stdout",
          "text": [
            "1.6071428571428572\n",
            "1.25\n",
            "1.3720238095238095\n"
          ]
        }
      ]
    },
    {
      "cell_type": "markdown",
      "source": [
        "### 인터넷 액세스"
      ],
      "metadata": {
        "id": "_jY1zISVo1PV"
      }
    },
    {
      "cell_type": "code",
      "source": [
        "#URL에서 데이터 읽어오기\n",
        "from urllib.request import urlopen # urlopen => 웹페이지를 불러와서\n",
        "with urlopen('http://worldtimeapi.org/api/timezone/etc/UTC.txt') as response:\n",
        "  for line in response:\n",
        "    line=line.decode()\n",
        "    if line.startswith('datetime'):#datetime이 있는 줄을 찾아서\n",
        "      print(line.rstrip())#출력"
      ],
      "metadata": {
        "colab": {
          "base_uri": "https://localhost:8080/"
        },
        "id": "SK_vgShlo4_U",
        "outputId": "90e8119e-dc47-40a5-8e5d-3f2cf2972eab"
      },
      "execution_count": 79,
      "outputs": [
        {
          "output_type": "stream",
          "name": "stdout",
          "text": [
            "datetime: 2022-02-04T07:30:55.279383+00:00\n"
          ]
        }
      ]
    },
    {
      "cell_type": "markdown",
      "source": [
        "### 날짜와 시간\n"
      ],
      "metadata": {
        "id": "XIhWaUwRp-6G"
      }
    },
    {
      "cell_type": "code",
      "source": [
        "from datetime import date\n",
        "now = date.today()#현재 날짜를 리턴\n",
        "print(now)\n",
        "\n",
        "now.strftime(\"%m-%d-%y. %d %b %Y is a %A on the %d day of %B.\")\n",
        "#현재 날짜 출력을 포매팅\n",
        "\n",
        "birthday = date(1999,7,7)\n",
        "age = now - birthday\n",
        "print(age.days)#날 출력"
      ],
      "metadata": {
        "colab": {
          "base_uri": "https://localhost:8080/"
        },
        "id": "7GAhNV-2qA1u",
        "outputId": "374ed9b5-e80c-409b-f2f0-d0b32237d738"
      },
      "execution_count": 81,
      "outputs": [
        {
          "output_type": "stream",
          "name": "stdout",
          "text": [
            "2022-02-04\n",
            "8248\n"
          ]
        }
      ]
    },
    {
      "cell_type": "markdown",
      "source": [
        "### 데이터 압축\n"
      ],
      "metadata": {
        "id": "cCHbqDtbqkhm"
      }
    },
    {
      "cell_type": "code",
      "source": [
        "import zlib\n",
        "s = b'witch which has which witches wrist watch'\n",
        "print(len(s))#압축 전 길이\n",
        "\n",
        "t= zlib.compress(s)#압축\n",
        "print(len(t))\n",
        "\n",
        "print(zlib.decompress(t))#압출풀기\n",
        "zlib.crc32(s)#crc32로 변환"
      ],
      "metadata": {
        "colab": {
          "base_uri": "https://localhost:8080/"
        },
        "id": "zoL1Wdf-qp-y",
        "outputId": "ce3aca40-f3a0-4ee1-e552-2ee474b1b640"
      },
      "execution_count": 83,
      "outputs": [
        {
          "output_type": "stream",
          "name": "stdout",
          "text": [
            "41\n",
            "37\n",
            "b'witch which has which witches wrist watch'\n"
          ]
        },
        {
          "output_type": "execute_result",
          "data": {
            "text/plain": [
              "226805979"
            ]
          },
          "metadata": {},
          "execution_count": 83
        }
      ]
    },
    {
      "cell_type": "markdown",
      "source": [
        "### 성능 측정\n"
      ],
      "metadata": {
        "id": "1maFTlWJqpTq"
      }
    },
    {
      "cell_type": "code",
      "source": [
        "from timeit import Timer\n",
        "\n",
        "print(Timer('t=a; a=b; b=t', 'a=1; b=2').timeit())\n",
        "print(Timer('a,b = b,a', 'a=1; b=2').timeit())"
      ],
      "metadata": {
        "colab": {
          "base_uri": "https://localhost:8080/"
        },
        "id": "Z7TzCclLr1bN",
        "outputId": "ddbb56e8-790a-4ce5-e373-7985e68eeb2c"
      },
      "execution_count": 87,
      "outputs": [
        {
          "output_type": "stream",
          "name": "stdout",
          "text": [
            "0.03789443799996661\n",
            "0.029012759000579535\n"
          ]
        }
      ]
    },
    {
      "cell_type": "markdown",
      "source": [
        "### 품질관리"
      ],
      "metadata": {
        "id": "1e-Ik1SHsdtO"
      }
    },
    {
      "cell_type": "code",
      "source": [
        "# doctest : 모듈을 훑어보고 독스트링에 내장된 테스트 검사 도구 젝오\n",
        "import doctest\n",
        "\n",
        "def average(values):\n",
        "    \"\"\"Computes the arithmetic mean of a list of numbers.\n",
        "\n",
        "    >>> print(average([20, 30, 70]))\n",
        "    40.0\n",
        "    \"\"\"\n",
        "    return sum(values) / len(values)\n",
        "\n",
        "doctest.testmod()"
      ],
      "metadata": {
        "colab": {
          "base_uri": "https://localhost:8080/"
        },
        "id": "ESsSBvgzr82o",
        "outputId": "880ef46a-8b3e-4f41-9a58-854017903901"
      },
      "execution_count": 88,
      "outputs": [
        {
          "output_type": "stream",
          "name": "stderr",
          "text": [
            "\n",
            "PYDEV DEBUGGER WARNING:\n",
            "sys.settrace() should not be used when the debugger is being used.\n",
            "This may cause the debugger to stop working correctly.\n",
            "If this is needed, please check: \n",
            "http://pydev.blogspot.com/2007/06/why-cant-pydev-debugger-work-with.html\n",
            "to see how to restore the debug tracing back correctly.\n",
            "Call Location:\n",
            "  File \"/usr/lib/python3.7/doctest.py\", line 1487, in run\n",
            "    sys.settrace(save_trace)\n",
            "\n"
          ]
        },
        {
          "output_type": "execute_result",
          "data": {
            "text/plain": [
              "TestResults(failed=0, attempted=1)"
            ]
          },
          "metadata": {},
          "execution_count": 88
        }
      ]
    },
    {
      "cell_type": "code",
      "source": [
        "# 포괄적인 테스트 집합을 별도의 파일로 관리\n",
        "import unittest\n",
        "\n",
        "class TestStatisticalFunctions(unittest.TestCase):\n",
        "\n",
        "    def test_average(self):\n",
        "        self.assertEqual(average([20, 30, 70]), 40.0)\n",
        "        self.assertEqual(round(average([1, 5, 7]), 1), 4.3)\n",
        "        with self.assertRaises(ZeroDivisionError):\n",
        "            average([])\n",
        "        with self.assertRaises(TypeError):\n",
        "            average(20, 30, 70)\n",
        "\n",
        "#unittest.main()"
      ],
      "metadata": {
        "id": "QgqeIVCoxs9F"
      },
      "execution_count": 91,
      "outputs": []
    },
    {
      "cell_type": "markdown",
      "source": [
        "# 11.표준 라이브러리 둘러보기 2"
      ],
      "metadata": {
        "id": "HQPudQ8AyCye"
      }
    },
    {
      "cell_type": "markdown",
      "source": [
        ""
      ],
      "metadata": {
        "id": "CBvI_2udyG31"
      }
    }
  ]
}